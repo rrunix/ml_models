{
 "cells": [
  {
   "cell_type": "code",
   "execution_count": 1,
   "metadata": {},
   "outputs": [],
   "source": [
    "from sklearn.datasets import load_iris\n",
    "from sklearn.model_selection import train_test_split\n",
    "from sklearn.metrics import classification_report\n",
    "\n",
    "import pandas as pd\n",
    "import numpy as np\n",
    "import matplotlib.pyplot as plt\n",
    "\n",
    "from pandas.api.types import is_string_dtype\n",
    "from pandas.api.types import is_numeric_dtype\n",
    "\n",
    "import random\n",
    "\n",
    "from tqdm import tqdm"
   ]
  },
  {
   "cell_type": "code",
   "execution_count": 2,
   "metadata": {},
   "outputs": [],
   "source": [
    "colnames = [\"sex\", \"length\", \"diameter\", \"height\", \"whole_weight\", \\\n",
    "        \"shucked_weight\", \"viscera_weight\", \"shell_weight\", \"rings\"]\n",
    "dataset = pd.read_csv(\"data/abalone.data\", names=colnames)"
   ]
  },
  {
   "cell_type": "code",
   "execution_count": 3,
   "metadata": {},
   "outputs": [],
   "source": [
    "dataset = dataset.sample(n=1_000)"
   ]
  },
  {
   "cell_type": "code",
   "execution_count": 4,
   "metadata": {},
   "outputs": [],
   "source": [
    "X = dataset.drop(columns='rings')\n",
    "y = dataset['rings']"
   ]
  },
  {
   "cell_type": "markdown",
   "metadata": {},
   "source": [
    "Discretizamos la variable objetivo y convertimos el problema de regresión en clasificación binaria."
   ]
  },
  {
   "cell_type": "code",
   "execution_count": 5,
   "metadata": {},
   "outputs": [
    {
     "data": {
      "text/plain": [
       "<matplotlib.lines.Line2D at 0x7fb1abb27910>"
      ]
     },
     "execution_count": 5,
     "metadata": {},
     "output_type": "execute_result"
    },
    {
     "data": {
      "image/png": "[encoded data removed]",
      "text/plain": [
       "<Figure size 432x288 with 1 Axes>"
      ]
     },
     "metadata": {
      "needs_background": "light"
     },
     "output_type": "display_data"
    }
   ],
   "source": [
    "y.hist()\n",
    "plt.axvline(y.median(), color='black')"
   ]
  },
  {
   "cell_type": "code",
   "execution_count": 6,
   "metadata": {},
   "outputs": [],
   "source": [
    "y_categ = (dataset['rings'] < dataset['rings'].mean()).astype(int)"
   ]
  },
  {
   "cell_type": "markdown",
   "metadata": {},
   "source": [
    "El problema resultante está equilibrado como se puede ver a continuación."
   ]
  },
  {
   "cell_type": "code",
   "execution_count": 7,
   "metadata": {},
   "outputs": [
    {
     "data": {
      "text/plain": [
       "1    513\n",
       "0    487\n",
       "Name: rings, dtype: int64"
      ]
     },
     "execution_count": 7,
     "metadata": {},
     "output_type": "execute_result"
    }
   ],
   "source": [
    "y_categ.value_counts()"
   ]
  },
  {
   "cell_type": "markdown",
   "metadata": {},
   "source": [
    "# Creación de un árbol de decisión"
   ]
  },
  {
   "cell_type": "markdown",
   "metadata": {},
   "source": [
    "[![Árbol de decisión](https://static.javatpoint.com/tutorial/machine-learning/images/decision-tree-classification-algorithm.png)](https://www.javatpoint.com/machine-learning-decision-tree-classification-algorithm)"
   ]
  },
  {
   "cell_type": "markdown",
   "metadata": {},
   "source": [
    "Para facilitar la implementación del árbol, vamos a utilizar una implementación basada en OOP. La clase base sera Node, que representará un nodo (hoja, split) de nuestro árbol."
   ]
  },
  {
   "cell_type": "code",
   "execution_count": 8,
   "metadata": {},
   "outputs": [],
   "source": [
    "class Node:\n",
    "    \n",
    "    def predict(self, sample):\n",
    "        raise NotImplemented\n",
    "    \n",
    "    def pprint(self, level=0):\n",
    "        raise NotImplemented"
   ]
  },
  {
   "cell_type": "markdown",
   "metadata": {},
   "source": [
    "Una hoja es un nodo terminal, y su predicción será siempre la misma (las probabilidades de la partición con la que se genero)."
   ]
  },
  {
   "cell_type": "code",
   "execution_count": 9,
   "metadata": {},
   "outputs": [],
   "source": [
    "class Leaf(Node):\n",
    "    \n",
    "    def __init__(self, probs):\n",
    "        super().__init__()\n",
    "        self.probs = probs\n",
    "        \n",
    "    def predict(self, sample):\n",
    "        return self.probs\n",
    "    \n",
    "    def pprint(self, level=0):\n",
    "        pad = '| ' + '--' * level\n",
    "        return '{} {}\\n'.format(pad, round(self.probs, 2).to_dict())"
   ]
  },
  {
   "cell_type": "markdown",
   "metadata": {},
   "source": [
    "Por último creamos otro tipo de Nodo que representará un split numérico y otro que será categórico."
   ]
  },
  {
   "cell_type": "code",
   "execution_count": 10,
   "metadata": {},
   "outputs": [],
   "source": [
    "class NumericalSplit(Node):\n",
    "    \n",
    "    def __init__(self, feature, value, left_child, right_child):\n",
    "        super().__init__()\n",
    "        self.feature = feature\n",
    "        self.value = value\n",
    "        self.left_child = left_child\n",
    "        self.right_child = right_child\n",
    "        \n",
    "    def predict(self, sample):\n",
    "        child = self.left_child if sample[self.feature] <= self.value else self.right_child\n",
    "        return child.predict(sample)\n",
    "    \n",
    "    def pprint(self, level=0):\n",
    "        pad = '| ' + '--' * level\n",
    "        left_pprint = pad + 'if {} <= {}:\\n'.format(self.feature, self.value) + self.left_child.pprint(level + 1)\n",
    "        right_pprint = pad + 'if {} > {}:\\n'.format(self.feature, self.value) + self.right_child.pprint(level + 1)\n",
    "        return left_pprint + right_pprint\n",
    "    \n",
    "    \n",
    "class CategoricalSplit(Node):\n",
    "    \n",
    "    def __init__(self, feature, value, left_child, right_child):\n",
    "        super().__init__()\n",
    "        self.feature = feature\n",
    "        self.value = value\n",
    "        self.left_child = left_child\n",
    "        self.right_child = right_child\n",
    "        \n",
    "    def predict(self, sample):\n",
    "        child = self.left_child if sample[self.feature] == self.value else self.right_child\n",
    "        return child.predict(sample)\n",
    "        \n",
    "    def pprint(self, level=0):\n",
    "        super().__init__()\n",
    "        pad = '| ' + '--' * level\n",
    "        left_pprint = pad + 'if {} == {}:\\n'.format(self.feature, self.value) + self.left_child.pprint(level + 1)\n",
    "        right_pprint = pad + 'if {} != {}:\\n'.format(self.feature, self.value) + self.right_child.pprint(level + 1)\n",
    "        return left_pprint + right_pprint"
   ]
  },
  {
   "cell_type": "markdown",
   "metadata": {},
   "source": [
    "Probamos un ejemplo.."
   ]
  },
  {
   "cell_type": "code",
   "execution_count": 11,
   "metadata": {},
   "outputs": [],
   "source": [
    "dt = NumericalSplit(\n",
    "                    'age',\n",
    "                    10,\n",
    "                    CategoricalSplit(\n",
    "                                    'education',\n",
    "                                    'high-school',\n",
    "                                     Leaf(pd.Series([0.1, 0.9], index=['0', '1'])),\n",
    "                                     Leaf(pd.Series([0.6, 0.4], index=['0', '1'])),\n",
    "                    ),\n",
    "                    Leaf(pd.Series([1, 0], index=['0', '1'])),\n",
    ")"
   ]
  },
  {
   "cell_type": "code",
   "execution_count": 12,
   "metadata": {},
   "outputs": [
    {
     "name": "stdout",
     "output_type": "stream",
     "text": [
      "| if age <= 10:\n",
      "| --if education == high-school:\n",
      "| ---- {'0': 0.1, '1': 0.9}\n",
      "| --if education != high-school:\n",
      "| ---- {'0': 0.6, '1': 0.4}\n",
      "| if age > 10:\n",
      "| -- {'0': 1, '1': 0}\n",
      "\n"
     ]
    }
   ],
   "source": [
    "print(dt.pprint())"
   ]
  },
  {
   "cell_type": "code",
   "execution_count": 13,
   "metadata": {},
   "outputs": [
    {
     "data": {
      "text/plain": [
       "0    1\n",
       "1    0\n",
       "dtype: int64"
      ]
     },
     "execution_count": 13,
     "metadata": {},
     "output_type": "execute_result"
    }
   ],
   "source": [
    "dt.predict({'age': 11})"
   ]
  },
  {
   "cell_type": "code",
   "execution_count": 14,
   "metadata": {},
   "outputs": [
    {
     "data": {
      "text/plain": [
       "0    0.1\n",
       "1    0.9\n",
       "dtype: float64"
      ]
     },
     "execution_count": 14,
     "metadata": {},
     "output_type": "execute_result"
    }
   ],
   "source": [
    "dt.predict({'age': 10, 'education': 'high-school'})"
   ]
  },
  {
   "cell_type": "code",
   "execution_count": 15,
   "metadata": {},
   "outputs": [
    {
     "data": {
      "text/plain": [
       "0    0.6\n",
       "1    0.4\n",
       "dtype: float64"
      ]
     },
     "execution_count": 15,
     "metadata": {},
     "output_type": "execute_result"
    }
   ],
   "source": [
    "dt.predict({'age': 10, 'education': None})"
   ]
  },
  {
   "cell_type": "markdown",
   "metadata": {},
   "source": [
    "# ¿Y cómo hacemos que esto sea machine-learning y no human-learning?"
   ]
  },
  {
   "cell_type": "markdown",
   "metadata": {},
   "source": [
    "Algoritmo de construcción de un árbol de decisión. Repetimos el siguiente proceso de división del dataset.\n",
    "\n",
    "* 1) Si la condición de parada se cumple. Creamos una regla siguiendo A).\n",
    "* 2) Si no se cumple, buscamos la mejor forma de partir del dataset. De esta forma obtenemos dos particiones.\n",
    "* 3) Volvemos al paso 1) con cada una de las particiones.\n",
    "\n",
    "A) Regla: Conjunto de condiciones actuales. La predicción se calcula como la frecuencia relativa de las clases de las observaciones en esa regla."
   ]
  },
  {
   "cell_type": "markdown",
   "metadata": {},
   "source": [
    "## ¿Cómo calculamos la probabilidad?"
   ]
  },
  {
   "cell_type": "markdown",
   "metadata": {},
   "source": [
    "Para calcular la probabilidad a priori de un conjunto de observaciones, podemos calcular la frecuencia relativa de sus etiquetas."
   ]
  },
  {
   "cell_type": "code",
   "execution_count": 16,
   "metadata": {},
   "outputs": [],
   "source": [
    "def partition_prob(partition, y):\n",
    "    probs = pd.value_counts(y[partition]) / len(partition)\n",
    "    return probs.sort_index()"
   ]
  },
  {
   "cell_type": "code",
   "execution_count": 17,
   "metadata": {},
   "outputs": [
    {
     "data": {
      "text/plain": [
       "0    0.487\n",
       "1    0.513\n",
       "Name: rings, dtype: float64"
      ]
     },
     "execution_count": 17,
     "metadata": {},
     "output_type": "execute_result"
    }
   ],
   "source": [
    "partition_prob(X.index, y_categ)"
   ]
  },
  {
   "cell_type": "markdown",
   "metadata": {},
   "source": [
    "## ¿Cómo evaluamos un splits?"
   ]
  },
  {
   "cell_type": "code",
   "execution_count": 18,
   "metadata": {},
   "outputs": [],
   "source": [
    "def gini_index(idx, y):\n",
    "    probs = partition_prob(idx, y)\n",
    "    return 1 - (probs * probs).sum()\n",
    "\n",
    "def gini_gain(left_partition_idxs, right_partition_idxs, y):\n",
    "    n_instances = len(left_partition_idxs) + len(right_partition_idxs)\n",
    "    \n",
    "    gini_initial = gini_index(list(left_partition_idxs) + list(right_partition_idxs), y)\n",
    "    \n",
    "    gini_left = gini_index(left_partition_idxs, y)\n",
    "    gini_right = gini_index(right_partition_idxs, y)\n",
    "    \n",
    "\n",
    "    left_proportion = len(left_partition_idxs) / n_instances\n",
    "    right_proportion = len(right_partition_idxs) / n_instances\n",
    "    \n",
    "    return gini_initial - gini_left * left_proportion - gini_right * right_proportion"
   ]
  },
  {
   "cell_type": "code",
   "execution_count": 19,
   "metadata": {},
   "outputs": [
    {
     "data": {
      "text/plain": [
       "0.0"
      ]
     },
     "execution_count": 19,
     "metadata": {},
     "output_type": "execute_result"
    }
   ],
   "source": [
    "gini_gain(X.index[:2000], X.index[2000:], y_categ)"
   ]
  },
  {
   "cell_type": "code",
   "execution_count": 20,
   "metadata": {},
   "outputs": [
    {
     "data": {
      "text/plain": [
       "0.05555555555555558"
      ]
     },
     "execution_count": 20,
     "metadata": {},
     "output_type": "execute_result"
    }
   ],
   "source": [
    "gini_gain([0, 1, 2], [3, 4, 5], np.array([0, 1, 0, 1, 0, 1]))"
   ]
  },
  {
   "cell_type": "code",
   "execution_count": 21,
   "metadata": {},
   "outputs": [
    {
     "data": {
      "text/plain": [
       "0.5"
      ]
     },
     "execution_count": 21,
     "metadata": {},
     "output_type": "execute_result"
    }
   ],
   "source": [
    "gini_gain([0, 1, 2], [3, 4, 5], np.array([0, 0, 0, 1, 1, 1]))"
   ]
  },
  {
   "cell_type": "markdown",
   "metadata": {},
   "source": [
    "## ¿Qué split cogemos?"
   ]
  },
  {
   "cell_type": "markdown",
   "metadata": {},
   "source": [
    "### Variables numericas"
   ]
  },
  {
   "cell_type": "code",
   "execution_count": 22,
   "metadata": {},
   "outputs": [],
   "source": [
    "def numeric_split_scores(feature, y):\n",
    "    unique_values = sorted(feature.unique())\n",
    "    \n",
    "    cut_values = []\n",
    "    gini_values = []\n",
    "    \n",
    "    for value in unique_values[:-1]:\n",
    "        left_partition = feature[feature <= value]\n",
    "        right_partition = feature[feature > value]\n",
    "        gain = gini_gain(left_partition.index, right_partition.index, y)\n",
    "        gini_values.append(gain)\n",
    "        cut_values.append(value)\n",
    "    \n",
    "    return cut_values, gini_values"
   ]
  },
  {
   "cell_type": "code",
   "execution_count": 23,
   "metadata": {},
   "outputs": [
    {
     "data": {
      "text/plain": [
       "<matplotlib.lines.Line2D at 0x7fb1a98d0070>"
      ]
     },
     "execution_count": 23,
     "metadata": {},
     "output_type": "execute_result"
    },
    {
     "data": {
      "image/png": "[encoded data removed]",
      "text/plain": [
       "<Figure size 432x288 with 1 Axes>"
      ]
     },
     "metadata": {
      "needs_background": "light"
     },
     "output_type": "display_data"
    }
   ],
   "source": [
    "cut_values, gini_values = numeric_split_scores(X['viscera_weight'], y_categ)\n",
    "plt.plot(cut_values, gini_values)\n",
    "plt.axvline(cut_values[np.argmax(gini_values)])"
   ]
  },
  {
   "cell_type": "code",
   "execution_count": 24,
   "metadata": {},
   "outputs": [
    {
     "data": {
      "text/plain": [
       "<matplotlib.lines.Line2D at 0x7fb1a983ce50>"
      ]
     },
     "execution_count": 24,
     "metadata": {},
     "output_type": "execute_result"
    },
    {
     "data": {
      "image/png": "[encoded data removed]",
      "text/plain": [
       "<Figure size 432x288 with 1 Axes>"
      ]
     },
     "metadata": {
      "needs_background": "light"
     },
     "output_type": "display_data"
    }
   ],
   "source": [
    "cut_values, gini_values = numeric_split_scores(X['length'], y_categ)\n",
    "plt.plot(cut_values, gini_values)\n",
    "plt.axvline(cut_values[np.argmax(gini_values)])"
   ]
  },
  {
   "cell_type": "markdown",
   "metadata": {},
   "source": [
    "### Variables categoricas"
   ]
  },
  {
   "cell_type": "code",
   "execution_count": 25,
   "metadata": {},
   "outputs": [],
   "source": [
    "def categorical_split_scores(feature, y):\n",
    "    unique_values = sorted(feature.unique())\n",
    "    \n",
    "    cut_values = []\n",
    "    gini_values = []\n",
    "    \n",
    "    for value in unique_values:\n",
    "        left_partition = feature[feature == value]\n",
    "        right_partition = feature[feature != value]\n",
    "        gini = gini_gain(left_partition.index, right_partition.index, y)\n",
    "        \n",
    "        gini_values.append(gini)\n",
    "        cut_values.append(value)\n",
    "    \n",
    "    return cut_values, gini_values"
   ]
  },
  {
   "cell_type": "code",
   "execution_count": 26,
   "metadata": {},
   "outputs": [
    {
     "data": {
      "text/plain": [
       "array(['F', 'I', 'M'], dtype=object)"
      ]
     },
     "execution_count": 26,
     "metadata": {},
     "output_type": "execute_result"
    }
   ],
   "source": [
    "X['sex'].unique()"
   ]
  },
  {
   "cell_type": "code",
   "execution_count": 27,
   "metadata": {},
   "outputs": [
    {
     "data": {
      "text/html": [
       "<div>\n",
       "<style scoped>\n",
       "    .dataframe tbody tr th:only-of-type {\n",
       "        vertical-align: middle;\n",
       "    }\n",
       "\n",
       "    .dataframe tbody tr th {\n",
       "        vertical-align: top;\n",
       "    }\n",
       "\n",
       "    .dataframe thead th {\n",
       "        text-align: right;\n",
       "    }\n",
       "</style>\n",
       "<table border=\"1\" class=\"dataframe\">\n",
       "  <thead>\n",
       "    <tr style=\"text-align: right;\">\n",
       "      <th></th>\n",
       "      <th>value</th>\n",
       "      <th>gini_value</th>\n",
       "    </tr>\n",
       "  </thead>\n",
       "  <tbody>\n",
       "    <tr>\n",
       "      <th>0</th>\n",
       "      <td>F</td>\n",
       "      <td>0.034</td>\n",
       "    </tr>\n",
       "    <tr>\n",
       "      <th>1</th>\n",
       "      <td>I</td>\n",
       "      <td>0.120</td>\n",
       "    </tr>\n",
       "    <tr>\n",
       "      <th>2</th>\n",
       "      <td>M</td>\n",
       "      <td>0.027</td>\n",
       "    </tr>\n",
       "  </tbody>\n",
       "</table>\n",
       "</div>"
      ],
      "text/plain": [
       "  value  gini_value\n",
       "0     F       0.034\n",
       "1     I       0.120\n",
       "2     M       0.027"
      ]
     },
     "execution_count": 27,
     "metadata": {},
     "output_type": "execute_result"
    }
   ],
   "source": [
    "cut_values, gini_values = categorical_split_scores(X['sex'], y_categ)\n",
    "pd.DataFrame(data={'value': cut_values, 'gini_value': gini_values}).round(3)"
   ]
  },
  {
   "cell_type": "markdown",
   "metadata": {},
   "source": [
    "## Seleccionar el mejor split"
   ]
  },
  {
   "cell_type": "markdown",
   "metadata": {},
   "source": [
    "Primero calculamos el mejor split de cada feature dependiendo de su tipo"
   ]
  },
  {
   "cell_type": "code",
   "execution_count": 28,
   "metadata": {},
   "outputs": [],
   "source": [
    "def best_feature_split(feature, y):\n",
    "    if is_string_dtype(feature):\n",
    "        cut_values, gini_values = categorical_split_scores(feature, y)\n",
    "        split_type = 'categorical'\n",
    "    else:\n",
    "        cut_values, gini_values =  numeric_split_scores(feature, y)\n",
    "        split_type = 'numerical'\n",
    "        \n",
    "    if len(cut_values) == 0:\n",
    "        return None\n",
    "    else:\n",
    "        best_idx = np.argmin(gini_values)\n",
    "        return cut_values[best_idx], gini_values[best_idx], split_type"
   ]
  },
  {
   "cell_type": "markdown",
   "metadata": {},
   "source": [
    "Probamos con una variable categorica y una numérica"
   ]
  },
  {
   "cell_type": "code",
   "execution_count": 29,
   "metadata": {},
   "outputs": [
    {
     "data": {
      "text/plain": [
       "('M', 0.027069521464492874, 'categorical')"
      ]
     },
     "execution_count": 29,
     "metadata": {},
     "output_type": "execute_result"
    }
   ],
   "source": [
    "best_feature_split(X['sex'], y_categ)"
   ]
  },
  {
   "cell_type": "code",
   "execution_count": 30,
   "metadata": {},
   "outputs": [
    {
     "data": {
      "text/plain": [
       "(0.11, 0.0004748128128128637, 'numerical')"
      ]
     },
     "execution_count": 30,
     "metadata": {},
     "output_type": "execute_result"
    }
   ],
   "source": [
    "best_feature_split(X['length'], y_categ)"
   ]
  },
  {
   "cell_type": "markdown",
   "metadata": {},
   "source": [
    "Ahora hacemos un método que seleccione el mejor split de entre todas las features"
   ]
  },
  {
   "cell_type": "code",
   "execution_count": 31,
   "metadata": {},
   "outputs": [],
   "source": [
    "def select_best_split(partition, y):\n",
    "    split_scores = []\n",
    "    for feature in partition.columns:\n",
    "        split = best_feature_split(partition[feature], y)\n",
    "        if split is not None:\n",
    "            split_scores.append((feature, *split))\n",
    "            \n",
    "    if len(split_scores) == 0:\n",
    "        return None\n",
    "    else:\n",
    "        return max(split_scores, key=lambda x: x[2])"
   ]
  },
  {
   "cell_type": "markdown",
   "metadata": {},
   "source": [
    "El mejor split para nuestro dataset si hacemos un único corte sería el siguiente:"
   ]
  },
  {
   "cell_type": "code",
   "execution_count": 32,
   "metadata": {},
   "outputs": [
    {
     "data": {
      "text/plain": [
       "('sex', 'M', 0.027069521464492874, 'categorical')"
      ]
     },
     "execution_count": 32,
     "metadata": {},
     "output_type": "execute_result"
    }
   ],
   "source": [
    "split = select_best_split(X, y_categ)\n",
    "split"
   ]
  },
  {
   "cell_type": "markdown",
   "metadata": {},
   "source": [
    "Una vez tenemos el split, podemos programar un método para aplicar ese split, obteniendo dos particiones. En la partición izquierda, la condición del split se cumple, y en la derecha no (podría ser del revés)."
   ]
  },
  {
   "cell_type": "code",
   "execution_count": 33,
   "metadata": {},
   "outputs": [],
   "source": [
    "def apply_split(partition, feature, value, split_type=None):\n",
    "    \n",
    "    if split_type is None:\n",
    "        split_type = 'categorical' if is_string_dtype(partition[feature]) else 'numerical'\n",
    "    \n",
    "    if split_type == 'categorical':\n",
    "        return partition[partition[feature] == value], partition[partition[feature] != value]\n",
    "    else:\n",
    "        return partition[partition[feature] <= value], partition[partition[feature] > value]"
   ]
  },
  {
   "cell_type": "markdown",
   "metadata": {},
   "source": [
    "Probamos a aplicar el split que hemos calculado anteriormente"
   ]
  },
  {
   "cell_type": "code",
   "execution_count": 34,
   "metadata": {},
   "outputs": [],
   "source": [
    "left_partition, right_partition = apply_split(X, split[0], split[1])"
   ]
  },
  {
   "cell_type": "markdown",
   "metadata": {},
   "source": [
    "Calculamos las probabilidades de las particiones inicial, izquierda y derecha."
   ]
  },
  {
   "cell_type": "code",
   "execution_count": 35,
   "metadata": {},
   "outputs": [
    {
     "data": {
      "text/plain": [
       "0    0.487\n",
       "1    0.513\n",
       "Name: rings, dtype: float64"
      ]
     },
     "execution_count": 35,
     "metadata": {},
     "output_type": "execute_result"
    }
   ],
   "source": [
    "partition_prob(X.index, y_categ)"
   ]
  },
  {
   "cell_type": "code",
   "execution_count": 36,
   "metadata": {},
   "outputs": [
    {
     "data": {
      "text/plain": [
       "0    0.651652\n",
       "1    0.348348\n",
       "Name: rings, dtype: float64"
      ]
     },
     "execution_count": 36,
     "metadata": {},
     "output_type": "execute_result"
    }
   ],
   "source": [
    "partition_prob(left_partition.index, y_categ)"
   ]
  },
  {
   "cell_type": "code",
   "execution_count": 37,
   "metadata": {},
   "outputs": [
    {
     "data": {
      "text/plain": [
       "0    0.404798\n",
       "1    0.595202\n",
       "Name: rings, dtype: float64"
      ]
     },
     "execution_count": 37,
     "metadata": {},
     "output_type": "execute_result"
    }
   ],
   "source": [
    "partition_prob(right_partition.index, y_categ)"
   ]
  },
  {
   "cell_type": "markdown",
   "metadata": {},
   "source": [
    "Podemos ver que el corte aplicado consigue separar bastante bien las clases."
   ]
  },
  {
   "cell_type": "markdown",
   "metadata": {},
   "source": [
    "y si quisieramos obtener una división mas clara? Volver a aplicar el mismo procedimiento!"
   ]
  },
  {
   "cell_type": "code",
   "execution_count": 38,
   "metadata": {},
   "outputs": [
    {
     "data": {
      "text/plain": [
       "('shell_weight', 0.643, 0.002892983073163299, 'numerical')"
      ]
     },
     "execution_count": 38,
     "metadata": {},
     "output_type": "execute_result"
    }
   ],
   "source": [
    "split_l2 = select_best_split(left_partition, y)\n",
    "left_partition_l2, right_partition_l2 = apply_split(left_partition, split_l2[0], split_l2[1])\n",
    "split_l2"
   ]
  },
  {
   "cell_type": "markdown",
   "metadata": {},
   "source": [
    "Otra vez el mejor split vuelve a ser con la misma feature. Volvemos a calcular las probabilidades de cada partición"
   ]
  },
  {
   "cell_type": "code",
   "execution_count": 39,
   "metadata": {},
   "outputs": [
    {
     "data": {
      "text/plain": [
       "0    0.648485\n",
       "1    0.351515\n",
       "Name: rings, dtype: float64"
      ]
     },
     "execution_count": 39,
     "metadata": {},
     "output_type": "execute_result"
    }
   ],
   "source": [
    "partition_prob(left_partition_l2.index, y_categ)"
   ]
  },
  {
   "cell_type": "code",
   "execution_count": 40,
   "metadata": {},
   "outputs": [
    {
     "data": {
      "text/plain": [
       "0    1.0\n",
       "Name: rings, dtype: float64"
      ]
     },
     "execution_count": 40,
     "metadata": {},
     "output_type": "execute_result"
    }
   ],
   "source": [
    "partition_prob(right_partition_l2.index, y_categ)"
   ]
  },
  {
   "cell_type": "markdown",
   "metadata": {},
   "source": [
    "Podemos comprobar que en la partición izquierda la probabilidad de la clase 0 se ha reducido aún mas, mientras que en la derecha ha aumentado un poco"
   ]
  },
  {
   "cell_type": "markdown",
   "metadata": {},
   "source": [
    "# Y listo, ya podemos construir nuestro árbol"
   ]
  },
  {
   "cell_type": "markdown",
   "metadata": {},
   "source": [
    "¿ Qué nos hace falta?\n",
    "* Sabemos buscar el 'mejor' corte.\n",
    "* Sabemos aplicar esos cortes obteniendo dos particiones\n",
    "* Podemos volver a calcular cortes sobre esas particiones.\n",
    "* Pero... ¿Cuando paramos?"
   ]
  },
  {
   "cell_type": "markdown",
   "metadata": {},
   "source": [
    "Algunas posibles condiciones de parada:\n",
    "\n",
    "* No se pueden hacer mas cortes porque todas las features son constantes. -> El mejor split es None\n",
    "* La impureza disminuye poco... \n",
    "* La partición tiene muy pocas observaciones (esto favorece el overfitting) -> mirar el tamaño de la partición\n",
    "* Maxima profundidad "
   ]
  },
  {
   "cell_type": "code",
   "execution_count": 41,
   "metadata": {},
   "outputs": [],
   "source": [
    "splitters = {\n",
    "    'numerical': NumericalSplit,\n",
    "    'categorical': CategoricalSplit\n",
    "}\n",
    "\n",
    "def build_tree(X, y, max_depth=3, min_samples=10, min_gain=0):\n",
    "    \n",
    "    def _split(partition, depth):\n",
    "        curr_partition_prob = partition_prob(partition.index, y)\n",
    "        \n",
    "        if depth >= max_depth or len(partition) <= min_samples:\n",
    "            return Leaf(curr_partition_prob)\n",
    "        \n",
    "        split = select_best_split(partition, y)\n",
    "        gain = float('-inf') if split is None else split[2]\n",
    "        \n",
    "        if split is None or gain < min_gain:\n",
    "            return Leaf(curr_partition_prob)\n",
    "        \n",
    "        feature, value, _, split_type = split\n",
    "        left_partition, right_partition = apply_split(X, feature, value, split_type=split_type)\n",
    "        \n",
    "        left_child = _split(left_partition, depth + 1)\n",
    "        right_child = _split(right_partition, depth + 1)\n",
    "        \n",
    "        return splitters[split_type](feature, value, left_child, right_child)\n",
    "        \n",
    "        \n",
    "    return _split(X, 0)"
   ]
  },
  {
   "cell_type": "code",
   "execution_count": 42,
   "metadata": {},
   "outputs": [],
   "source": [
    "def predict_prob(dt, X):\n",
    "    return X.apply(dt.predict, axis=1)\n",
    "\n",
    "def predict_class(dt, X):\n",
    "    return np.argmax(predict_prob(dt, X).values, axis=1)"
   ]
  },
  {
   "cell_type": "code",
   "execution_count": 43,
   "metadata": {},
   "outputs": [],
   "source": [
    "X_train, X_test = train_test_split(X.sample(frac=0.5), test_size=0.3)"
   ]
  },
  {
   "cell_type": "code",
   "execution_count": 44,
   "metadata": {},
   "outputs": [],
   "source": [
    "dt = build_tree(X_train, y_categ, max_depth=3)"
   ]
  },
  {
   "cell_type": "code",
   "execution_count": 45,
   "metadata": {},
   "outputs": [
    {
     "name": "stdout",
     "output_type": "stream",
     "text": [
      "              precision    recall  f1-score   support\n",
      "\n",
      "           0       0.52      0.34      0.42        64\n",
      "           1       0.61      0.77      0.68        86\n",
      "\n",
      "    accuracy                           0.59       150\n",
      "   macro avg       0.57      0.56      0.55       150\n",
      "weighted avg       0.57      0.59      0.57       150\n",
      "\n"
     ]
    }
   ],
   "source": [
    "print(classification_report(y_categ.loc[X_test.index], predict_class(dt, X_test)))"
   ]
  },
  {
   "cell_type": "code",
   "execution_count": 46,
   "metadata": {},
   "outputs": [
    {
     "name": "stdout",
     "output_type": "stream",
     "text": [
      "| if sex == M:\n",
      "| --if length <= 0.745:\n",
      "| ----if sex == M:\n",
      "| ------ {0: 0.67, 1: 0.33}\n",
      "| ----if sex != M:\n",
      "| ------ {0: 0.4, 1: 0.6}\n",
      "| --if length > 0.745:\n",
      "| ---- {0: 1.0}\n",
      "| if sex != M:\n",
      "| --if sex == F:\n",
      "| ----if height <= 0.21:\n",
      "| ------ {0: 0.49, 1: 0.51}\n",
      "| ----if height > 0.21:\n",
      "| ------ {0: 0.9, 1: 0.1}\n",
      "| --if sex != F:\n",
      "| ----if sex == I:\n",
      "| ------ {0: 0.13, 1: 0.87}\n",
      "| ----if sex != I:\n",
      "| ------ {0: 0.68, 1: 0.32}\n",
      "\n"
     ]
    }
   ],
   "source": [
    "print(dt.pprint())"
   ]
  },
  {
   "cell_type": "markdown",
   "metadata": {},
   "source": [
    "# Random Forest"
   ]
  },
  {
   "cell_type": "code",
   "execution_count": 50,
   "metadata": {},
   "outputs": [],
   "source": [
    "def create_basic_rf(X, y, max_depth=3, min_samples=10, min_gain=0, n_estimators=5):\n",
    "    dt = [build_tree(X, y, max_depth=max_depth, min_samples=min_samples, min_gain=min_gain) for n in tqdm(range(n_estimators))]\n",
    "    return dt"
   ]
  },
  {
   "cell_type": "code",
   "execution_count": 51,
   "metadata": {},
   "outputs": [],
   "source": [
    "def predict_rf_prob(dts, X):\n",
    "    base = predict_prob(dts[0], X)\n",
    "    for dt in dts[1:]:\n",
    "        base += predict_prob(dt, X)\n",
    "        \n",
    "    return base / len(dts)\n",
    "\n",
    "def predict_rf_class(dts, X):\n",
    "    return np.argmax(predict_rf_prob(dts, X).values, axis=1)"
   ]
  },
  {
   "cell_type": "code",
   "execution_count": 52,
   "metadata": {},
   "outputs": [
    {
     "name": "stderr",
     "output_type": "stream",
     "text": [
      "100%|██████████| 5/5 [01:14<00:00, 14.95s/it]\n"
     ]
    }
   ],
   "source": [
    "rf = create_basic_rf(X, y_categ, max_depth=1)"
   ]
  },
  {
   "cell_type": "code",
   "execution_count": 53,
   "metadata": {},
   "outputs": [],
   "source": [
    "y_hat = predict_rf_class(rf, X_test)"
   ]
  },
  {
   "cell_type": "code",
   "execution_count": 54,
   "metadata": {},
   "outputs": [
    {
     "name": "stdout",
     "output_type": "stream",
     "text": [
      "              precision    recall  f1-score   support\n",
      "\n",
      "           0       0.52      0.34      0.42        64\n",
      "           1       0.61      0.77      0.68        86\n",
      "\n",
      "    accuracy                           0.59       150\n",
      "   macro avg       0.57      0.56      0.55       150\n",
      "weighted avg       0.57      0.59      0.57       150\n",
      "\n"
     ]
    }
   ],
   "source": [
    "print(classification_report(y_categ.loc[X_test.index], predict_rf_class(rf, X_test)))"
   ]
  },
  {
   "cell_type": "code",
   "execution_count": 55,
   "metadata": {},
   "outputs": [
    {
     "name": "stdout",
     "output_type": "stream",
     "text": [
      "              precision    recall  f1-score   support\n",
      "\n",
      "           0       0.52      0.34      0.42        64\n",
      "           1       0.61      0.77      0.68        86\n",
      "\n",
      "    accuracy                           0.59       150\n",
      "   macro avg       0.57      0.56      0.55       150\n",
      "weighted avg       0.57      0.59      0.57       150\n",
      "\n"
     ]
    }
   ],
   "source": [
    "print(classification_report(y_categ.loc[X_test.index], predict_class(rf[0], X_test)))"
   ]
  }
 ],
 "metadata": {
  "kernelspec": {
   "display_name": "Python 3",
   "language": "python",
   "name": "python3"
  },
  "language_info": {
   "codemirror_mode": {
    "name": "ipython",
    "version": 3
   },
   "file_extension": ".py",
   "mimetype": "text/x-python",
   "name": "python",
   "nbconvert_exporter": "python",
   "pygments_lexer": "ipython3",
   "version": "3.8.5"
  }
 },
 "nbformat": 4,
 "nbformat_minor": 4
}
