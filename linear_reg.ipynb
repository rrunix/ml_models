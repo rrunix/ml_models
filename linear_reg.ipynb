{
 "cells": [
  {
   "cell_type": "code",
   "execution_count": 1,
   "metadata": {},
   "outputs": [],
   "source": [
    "import numpy as np\n",
    "import pandas as pd\n",
    "import matplotlib.pyplot as plt\n",
    "from sklearn.metrics import r2_score\n",
    "from sklearn.linear_model import LinearRegression"
   ]
  },
  {
   "cell_type": "code",
   "execution_count": 2,
   "metadata": {},
   "outputs": [],
   "source": [
    "n_obs = 50_000"
   ]
  },
  {
   "cell_type": "code",
   "execution_count": 3,
   "metadata": {},
   "outputs": [],
   "source": [
    "np.random.seed(42)\n",
    "\n",
    "c_1 = np.random.normal(size=n_obs).reshape(-1, 1)\n",
    "c_2 = np.random.normal(size=n_obs).reshape(-1, 1)\n",
    "c_3 = np.random.normal(size=n_obs).reshape(-1, 1)\n",
    "c_4 = np.random.normal(size=n_obs).reshape(-1, 1)\n",
    "\n",
    "intercept = np.ones(n_obs).reshape(-1, 1)\n",
    "\n",
    "d_1 = np.copy(c_3)\n",
    "d_1[0] += 0.001\n",
    "\n",
    "d_2 = np.copy(c_1)\n",
    "d_2[0] += 0.000000001\n",
    "\n",
    "ac_1 = c_1 + c_2\n",
    "ac_2 = c_1 + c_2 + c_3\n",
    "ac_3 = c_1 + c_2 + c_3 + c_4\n",
    "\n",
    "X = pd.DataFrame(data=np.hstack((c_1, c_2, c_3, c_4, d_1, d_2, ac_1, ac_2, ac_3, intercept)), columns=['c1', 'c2', 'c3', 'c4', 'd1', 'd2', 'ac1', 'ac2', 'ac3', 'intercept'])\n",
    "y = np.ravel(c_1 + c_3) + np.random.normal(scale=0.1, size=n_obs)"
   ]
  },
  {
   "cell_type": "code",
   "execution_count": 4,
   "metadata": {},
   "outputs": [
    {
     "data": {
      "text/html": [
       "<div>\n",
       "<style scoped>\n",
       "    .dataframe tbody tr th:only-of-type {\n",
       "        vertical-align: middle;\n",
       "    }\n",
       "\n",
       "    .dataframe tbody tr th {\n",
       "        vertical-align: top;\n",
       "    }\n",
       "\n",
       "    .dataframe thead th {\n",
       "        text-align: right;\n",
       "    }\n",
       "</style>\n",
       "<table border=\"1\" class=\"dataframe\">\n",
       "  <thead>\n",
       "    <tr style=\"text-align: right;\">\n",
       "      <th></th>\n",
       "      <th>c1</th>\n",
       "      <th>c2</th>\n",
       "      <th>c3</th>\n",
       "      <th>c4</th>\n",
       "      <th>d1</th>\n",
       "      <th>d2</th>\n",
       "      <th>ac1</th>\n",
       "      <th>ac2</th>\n",
       "      <th>ac3</th>\n",
       "      <th>intercept</th>\n",
       "    </tr>\n",
       "  </thead>\n",
       "  <tbody>\n",
       "    <tr>\n",
       "      <th>count</th>\n",
       "      <td>50000.000000</td>\n",
       "      <td>50000.000000</td>\n",
       "      <td>50000.000000</td>\n",
       "      <td>50000.000000</td>\n",
       "      <td>50000.000000</td>\n",
       "      <td>50000.000000</td>\n",
       "      <td>50000.000000</td>\n",
       "      <td>50000.000000</td>\n",
       "      <td>50000.000000</td>\n",
       "      <td>50000.0</td>\n",
       "    </tr>\n",
       "    <tr>\n",
       "      <th>mean</th>\n",
       "      <td>-0.000421</td>\n",
       "      <td>0.002355</td>\n",
       "      <td>0.003570</td>\n",
       "      <td>-0.001608</td>\n",
       "      <td>0.003570</td>\n",
       "      <td>-0.000421</td>\n",
       "      <td>0.001934</td>\n",
       "      <td>0.005504</td>\n",
       "      <td>0.003896</td>\n",
       "      <td>1.0</td>\n",
       "    </tr>\n",
       "    <tr>\n",
       "      <th>std</th>\n",
       "      <td>1.000170</td>\n",
       "      <td>1.001650</td>\n",
       "      <td>0.999576</td>\n",
       "      <td>0.998305</td>\n",
       "      <td>0.999576</td>\n",
       "      <td>1.000170</td>\n",
       "      <td>1.409781</td>\n",
       "      <td>1.732629</td>\n",
       "      <td>2.010253</td>\n",
       "      <td>0.0</td>\n",
       "    </tr>\n",
       "    <tr>\n",
       "      <th>min</th>\n",
       "      <td>-4.465604</td>\n",
       "      <td>-4.462969</td>\n",
       "      <td>-3.999332</td>\n",
       "      <td>-4.374043</td>\n",
       "      <td>-3.999332</td>\n",
       "      <td>-4.465604</td>\n",
       "      <td>-6.124308</td>\n",
       "      <td>-8.315105</td>\n",
       "      <td>-8.059446</td>\n",
       "      <td>1.0</td>\n",
       "    </tr>\n",
       "    <tr>\n",
       "      <th>25%</th>\n",
       "      <td>-0.678625</td>\n",
       "      <td>-0.669880</td>\n",
       "      <td>-0.671619</td>\n",
       "      <td>-0.675867</td>\n",
       "      <td>-0.671619</td>\n",
       "      <td>-0.678625</td>\n",
       "      <td>-0.954877</td>\n",
       "      <td>-1.155599</td>\n",
       "      <td>-1.362082</td>\n",
       "      <td>1.0</td>\n",
       "    </tr>\n",
       "    <tr>\n",
       "      <th>50%</th>\n",
       "      <td>0.001739</td>\n",
       "      <td>0.003720</td>\n",
       "      <td>0.003123</td>\n",
       "      <td>-0.002434</td>\n",
       "      <td>0.003123</td>\n",
       "      <td>0.001739</td>\n",
       "      <td>0.005456</td>\n",
       "      <td>0.008876</td>\n",
       "      <td>0.009512</td>\n",
       "      <td>1.0</td>\n",
       "    </tr>\n",
       "    <tr>\n",
       "      <th>75%</th>\n",
       "      <td>0.677060</td>\n",
       "      <td>0.676862</td>\n",
       "      <td>0.678093</td>\n",
       "      <td>0.671871</td>\n",
       "      <td>0.678093</td>\n",
       "      <td>0.677060</td>\n",
       "      <td>0.953002</td>\n",
       "      <td>1.170041</td>\n",
       "      <td>1.364411</td>\n",
       "      <td>1.0</td>\n",
       "    </tr>\n",
       "    <tr>\n",
       "      <th>max</th>\n",
       "      <td>4.479084</td>\n",
       "      <td>3.829782</td>\n",
       "      <td>4.562115</td>\n",
       "      <td>3.976868</td>\n",
       "      <td>4.562115</td>\n",
       "      <td>4.479084</td>\n",
       "      <td>5.554578</td>\n",
       "      <td>7.930651</td>\n",
       "      <td>8.183007</td>\n",
       "      <td>1.0</td>\n",
       "    </tr>\n",
       "  </tbody>\n",
       "</table>\n",
       "</div>"
      ],
      "text/plain": [
       "                 c1            c2            c3            c4            d1  \\\n",
       "count  50000.000000  50000.000000  50000.000000  50000.000000  50000.000000   \n",
       "mean      -0.000421      0.002355      0.003570     -0.001608      0.003570   \n",
       "std        1.000170      1.001650      0.999576      0.998305      0.999576   \n",
       "min       -4.465604     -4.462969     -3.999332     -4.374043     -3.999332   \n",
       "25%       -0.678625     -0.669880     -0.671619     -0.675867     -0.671619   \n",
       "50%        0.001739      0.003720      0.003123     -0.002434      0.003123   \n",
       "75%        0.677060      0.676862      0.678093      0.671871      0.678093   \n",
       "max        4.479084      3.829782      4.562115      3.976868      4.562115   \n",
       "\n",
       "                 d2           ac1           ac2           ac3  intercept  \n",
       "count  50000.000000  50000.000000  50000.000000  50000.000000    50000.0  \n",
       "mean      -0.000421      0.001934      0.005504      0.003896        1.0  \n",
       "std        1.000170      1.409781      1.732629      2.010253        0.0  \n",
       "min       -4.465604     -6.124308     -8.315105     -8.059446        1.0  \n",
       "25%       -0.678625     -0.954877     -1.155599     -1.362082        1.0  \n",
       "50%        0.001739      0.005456      0.008876      0.009512        1.0  \n",
       "75%        0.677060      0.953002      1.170041      1.364411        1.0  \n",
       "max        4.479084      5.554578      7.930651      8.183007        1.0  "
      ]
     },
     "execution_count": 4,
     "metadata": {},
     "output_type": "execute_result"
    }
   ],
   "source": [
    "X.describe()"
   ]
  },
  {
   "cell_type": "code",
   "execution_count": 5,
   "metadata": {},
   "outputs": [],
   "source": [
    "def linear_coeffs(X, y):\n",
    "    coeffs = np.linalg.inv(X.T @ X) @ X.T @ y\n",
    "    \n",
    "    if isinstance(X, pd.DataFrame):\n",
    "        coeffs.index = X.columns\n",
    "    return coeffs\n",
    "\n",
    "def predict(coeffs, X):\n",
    "    return X @ coeffs\n",
    "\n",
    "def mae(y_hat, y_true):\n",
    "    return np.mean(np.abs(y_hat - y_true))"
   ]
  },
  {
   "cell_type": "markdown",
   "metadata": {},
   "source": [
    "## Caso base"
   ]
  },
  {
   "cell_type": "code",
   "execution_count": 6,
   "metadata": {},
   "outputs": [
    {
     "data": {
      "text/plain": [
       "c1           0.999840\n",
       "c2           0.000256\n",
       "c3           0.999496\n",
       "intercept   -0.000267\n",
       "dtype: float64"
      ]
     },
     "execution_count": 6,
     "metadata": {},
     "output_type": "execute_result"
    }
   ],
   "source": [
    "linear_coeffs(X[['c1', 'c2', 'c3', 'intercept']], y)"
   ]
  },
  {
   "cell_type": "code",
   "execution_count": 7,
   "metadata": {},
   "outputs": [
    {
     "data": {
      "text/plain": [
       "intercept    0.002881\n",
       "dtype: float64"
      ]
     },
     "execution_count": 7,
     "metadata": {},
     "output_type": "execute_result"
    }
   ],
   "source": [
    "linear_coeffs(X[['intercept']], y)"
   ]
  },
  {
   "cell_type": "markdown",
   "metadata": {},
   "source": [
    "## Cambiando rangos"
   ]
  },
  {
   "cell_type": "markdown",
   "metadata": {},
   "source": [
    "2 x c_3"
   ]
  },
  {
   "cell_type": "code",
   "execution_count": 8,
   "metadata": {},
   "outputs": [
    {
     "data": {
      "text/plain": [
       "c1           0.999840\n",
       "c2           0.000256\n",
       "c3           0.499748\n",
       "intercept   -0.000267\n",
       "dtype: float64"
      ]
     },
     "execution_count": 8,
     "metadata": {},
     "output_type": "execute_result"
    }
   ],
   "source": [
    "X_rg = X.copy()\n",
    "X_rg['c3'] = 2 * X_rg['c3']\n",
    "\n",
    "linear_coeffs(X_rg[['c1', 'c2', 'c3', 'intercept']], y)"
   ]
  },
  {
   "cell_type": "markdown",
   "metadata": {},
   "source": [
    "1000 x c_3 y 1000 x c1"
   ]
  },
  {
   "cell_type": "code",
   "execution_count": 53,
   "metadata": {},
   "outputs": [
    {
     "data": {
      "text/plain": [
       "c1           0.999840\n",
       "c2           0.000256\n",
       "c3           0.000999\n",
       "intercept   -0.000267\n",
       "dtype: float64"
      ]
     },
     "execution_count": 53,
     "metadata": {},
     "output_type": "execute_result"
    }
   ],
   "source": [
    "X_rg = X.copy()\n",
    "X_rg['c3'] = 1000 * X_rg['c3']\n",
    "#X_rg['c1'] = 1000 * X_rg['c1']\n",
    "\n",
    "linear_coeffs(X_rg[['c1', 'c2', 'c3', 'intercept']], y)"
   ]
  },
  {
   "cell_type": "markdown",
   "metadata": {},
   "source": [
    "## Colinealidades"
   ]
  },
  {
   "cell_type": "code",
   "execution_count": 54,
   "metadata": {},
   "outputs": [],
   "source": [
    "X_c1 = X[['c1', 'd1', 'c3', 'intercept']]\n",
    "coeffs_c1 = linear_coeffs(X_c1, y)"
   ]
  },
  {
   "cell_type": "code",
   "execution_count": 55,
   "metadata": {},
   "outputs": [],
   "source": [
    "preds_c1 = predict(coeffs_c1, X_c1)\n",
    "res_c1 = y - preds_c1"
   ]
  },
  {
   "cell_type": "code",
   "execution_count": 56,
   "metadata": {},
   "outputs": [
    {
     "data": {
      "text/plain": [
       "0.07985951559259298"
      ]
     },
     "execution_count": 56,
     "metadata": {},
     "output_type": "execute_result"
    }
   ],
   "source": [
    "mae(y, preds_c1)"
   ]
  },
  {
   "cell_type": "code",
   "execution_count": 57,
   "metadata": {},
   "outputs": [
    {
     "data": {
      "text/plain": [
       "0.9950318983542819"
      ]
     },
     "execution_count": 57,
     "metadata": {},
     "output_type": "execute_result"
    }
   ],
   "source": [
    "r2_score(y, preds_c1)"
   ]
  },
  {
   "cell_type": "code",
   "execution_count": 58,
   "metadata": {},
   "outputs": [
    {
     "data": {
      "image/png": "[encoded data removed]",
      "text/plain": [
       "<Figure size 432x288 with 1 Axes>"
      ]
     },
     "metadata": {
      "needs_background": "light"
     },
     "output_type": "display_data"
    }
   ],
   "source": [
    "plt.hist(preds_c1 -  y);"
   ]
  },
  {
   "cell_type": "code",
   "execution_count": 59,
   "metadata": {},
   "outputs": [
    {
     "data": {
      "text/plain": [
       "<matplotlib.collections.PathCollection at 0x7f9d65d8aa90>"
      ]
     },
     "execution_count": 59,
     "metadata": {},
     "output_type": "execute_result"
    },
    {
     "data": {
      "image/png": "[encoded data removed]",
      "text/plain": [
       "<Figure size 432x288 with 1 Axes>"
      ]
     },
     "metadata": {
      "needs_background": "light"
     },
     "output_type": "display_data"
    }
   ],
   "source": [
    "plt.scatter(y, res_c1)"
   ]
  },
  {
   "cell_type": "code",
   "execution_count": 60,
   "metadata": {},
   "outputs": [
    {
     "data": {
      "text/plain": [
       "(-3.3688529077346984e-09, 0.10002380877679204)"
      ]
     },
     "execution_count": 60,
     "metadata": {},
     "output_type": "execute_result"
    }
   ],
   "source": [
    "res_c1.mean(), res_c1.std()"
   ]
  },
  {
   "cell_type": "code",
   "execution_count": null,
   "metadata": {},
   "outputs": [],
   "source": []
  },
  {
   "cell_type": "code",
   "execution_count": null,
   "metadata": {},
   "outputs": [],
   "source": []
  },
  {
   "cell_type": "markdown",
   "metadata": {},
   "source": [
    "**Funciona bastante bien el modelo.. no?**"
   ]
  },
  {
   "cell_type": "code",
   "execution_count": 61,
   "metadata": {},
   "outputs": [
    {
     "data": {
      "text/plain": [
       "c1          -0.234153\n",
       "d1          -0.327403\n",
       "c3          -0.327403\n",
       "intercept    1.000000\n",
       "Name: 4, dtype: float64"
      ]
     },
     "execution_count": 61,
     "metadata": {},
     "output_type": "execute_result"
    }
   ],
   "source": [
    "obs = X_c1.loc[4]\n",
    "obs"
   ]
  },
  {
   "cell_type": "code",
   "execution_count": 62,
   "metadata": {},
   "outputs": [
    {
     "data": {
      "text/plain": [
       "-0.561622149819646"
      ]
     },
     "execution_count": 62,
     "metadata": {},
     "output_type": "execute_result"
    }
   ],
   "source": [
    "predict(coeffs_c1, obs)"
   ]
  },
  {
   "cell_type": "code",
   "execution_count": 63,
   "metadata": {},
   "outputs": [
    {
     "data": {
      "text/plain": [
       "-0.5958212592256821"
      ]
     },
     "execution_count": 63,
     "metadata": {},
     "output_type": "execute_result"
    }
   ],
   "source": [
    "y[4]"
   ]
  },
  {
   "cell_type": "code",
   "execution_count": 64,
   "metadata": {},
   "outputs": [],
   "source": [
    "obs_prima = obs.copy()\n",
    "obs_prima['d1'] = -obs_prima['d1']"
   ]
  },
  {
   "cell_type": "code",
   "execution_count": 65,
   "metadata": {},
   "outputs": [
    {
     "data": {
      "text/plain": [
       "102.28012743075669"
      ]
     },
     "execution_count": 65,
     "metadata": {},
     "output_type": "execute_result"
    }
   ],
   "source": [
    "predict(coeffs_c1, obs_prima)"
   ]
  },
  {
   "cell_type": "code",
   "execution_count": 67,
   "metadata": {},
   "outputs": [
    {
     "data": {
      "image/png": "[encoded data removed]",
      "text/plain": [
       "<Figure size 432x288 with 1 Axes>"
      ]
     },
     "metadata": {
      "needs_background": "light"
     },
     "output_type": "display_data"
    }
   ],
   "source": [
    "plt.hist(y);"
   ]
  },
  {
   "cell_type": "markdown",
   "metadata": {},
   "source": [
    "Qué pasa?"
   ]
  },
  {
   "cell_type": "code",
   "execution_count": 68,
   "metadata": {},
   "outputs": [
    {
     "data": {
      "text/plain": [
       "c1             0.999836\n",
       "d1           157.056915\n",
       "c3          -156.057420\n",
       "intercept     -0.000270\n",
       "dtype: float64"
      ]
     },
     "execution_count": 68,
     "metadata": {},
     "output_type": "execute_result"
    }
   ],
   "source": [
    "coeffs_c1"
   ]
  },
  {
   "cell_type": "code",
   "execution_count": 69,
   "metadata": {},
   "outputs": [
    {
     "data": {
      "text/plain": [
       "array([5.00152022e+04, 9.99153154e+04, 4.99984343e-07])"
      ]
     },
     "execution_count": 69,
     "metadata": {},
     "output_type": "execute_result"
    }
   ],
   "source": [
    "X_c1_n = X_c1.drop(columns='intercept')\n",
    "egvalues, egvectors = np.linalg.eig(X_c1_n.T @ X_c1_n)\n",
    "egvalues"
   ]
  },
  {
   "cell_type": "markdown",
   "metadata": {},
   "source": [
    "### Otros ejemplos"
   ]
  },
  {
   "cell_type": "code",
   "execution_count": 70,
   "metadata": {},
   "outputs": [],
   "source": [
    "X_c2 = X[['c1', 'd2', 'c3', 'intercept']]\n",
    "coeffs_c2 = linear_coeffs(X_c2, y)"
   ]
  },
  {
   "cell_type": "code",
   "execution_count": 71,
   "metadata": {},
   "outputs": [],
   "source": [
    "preds_c2 = predict(coeffs_c2, X_c2)"
   ]
  },
  {
   "cell_type": "code",
   "execution_count": 72,
   "metadata": {},
   "outputs": [
    {
     "data": {
      "image/png": "[encoded data removed]",
      "text/plain": [
       "<Figure size 432x288 with 1 Axes>"
      ]
     },
     "metadata": {
      "needs_background": "light"
     },
     "output_type": "display_data"
    }
   ],
   "source": [
    "plt.hist(y-preds_c2);"
   ]
  },
  {
   "cell_type": "code",
   "execution_count": 73,
   "metadata": {},
   "outputs": [
    {
     "data": {
      "text/plain": [
       "c1           3.901010e+12\n",
       "d2          -3.901047e+12\n",
       "c3           1.077481e+00\n",
       "intercept    7.688000e-02\n",
       "dtype: float64"
      ]
     },
     "execution_count": 73,
     "metadata": {},
     "output_type": "execute_result"
    }
   ],
   "source": [
    "coeffs_c2"
   ]
  },
  {
   "cell_type": "markdown",
   "metadata": {},
   "source": [
    "## Pero entonces la regresión lineal se puede utilizar con multicolinearidades o no??"
   ]
  },
  {
   "cell_type": "code",
   "execution_count": 74,
   "metadata": {},
   "outputs": [],
   "source": [
    "def coefficients_sgd(X, y, l_rate, n_epoch, report_every=10):\n",
    "    # https://machinelearningmastery.com/implement-linear-regression-stochastic-gradient-descent-scratch-python/\n",
    "    coef = [0.0 for i in range(X.shape[1])]\n",
    "    for epoch in range(n_epoch):\n",
    "        sum_error = 0\n",
    "        for x_v, y_v in zip(X, y):\n",
    "            yhat = predict(coef, x_v)\n",
    "            error = yhat - y_v\n",
    "            sum_error += error**2\n",
    "            for i in range(len(x_v)):\n",
    "                coef[i] = coef[i] - l_rate * error * x_v[i]\n",
    "        \n",
    "        if epoch > 0 and epoch % report_every == 0:\n",
    "            print('>epoch=%d, lrate=%.3f, error=%.3f' % (epoch, l_rate, sum_error))\n",
    "    return coef"
   ]
  },
  {
   "cell_type": "code",
   "execution_count": 75,
   "metadata": {},
   "outputs": [],
   "source": [
    "coeffs = coefficients_sgd(X_c2.values, y, l_rate = 0.001, n_epoch=4)"
   ]
  },
  {
   "cell_type": "markdown",
   "metadata": {},
   "source": [
    "**Comprobamos los coeficientes y recordamos que y = c1 + c3 + N(0, 0.1), y que c5 =? c1** "
   ]
  },
  {
   "cell_type": "code",
   "execution_count": 76,
   "metadata": {},
   "outputs": [
    {
     "data": {
      "text/plain": [
       "[('c1', 0.5014257395818507),\n",
       " ('d2', 0.5014257395839927),\n",
       " ('c3', 1.00168679087208),\n",
       " ('intercept', 8.949999307435332e-05)]"
      ]
     },
     "execution_count": 76,
     "metadata": {},
     "output_type": "execute_result"
    }
   ],
   "source": [
    "list(zip(X_c2.columns, coeffs))"
   ]
  },
  {
   "cell_type": "code",
   "execution_count": 77,
   "metadata": {},
   "outputs": [
    {
     "data": {
      "text/plain": [
       "c1           3.901010e+12\n",
       "d2          -3.901047e+12\n",
       "c3           1.077481e+00\n",
       "intercept    7.688000e-02\n",
       "dtype: float64"
      ]
     },
     "execution_count": 77,
     "metadata": {},
     "output_type": "execute_result"
    }
   ],
   "source": [
    "coeffs_c2"
   ]
  },
  {
   "cell_type": "markdown",
   "metadata": {},
   "source": [
    "**La contribucion de c1 en y se ha dividido entre c1 y c5 (coeff ~ 0.5)**"
   ]
  },
  {
   "cell_type": "markdown",
   "metadata": {},
   "source": [
    "## Vale.. y por que pasa esto?"
   ]
  },
  {
   "cell_type": "markdown",
   "metadata": {},
   "source": [
    "Vamos a entender como se calculan los coeffs en OLS (Quitamos el intercept)"
   ]
  },
  {
   "cell_type": "code",
   "execution_count": 78,
   "metadata": {},
   "outputs": [],
   "source": [
    "X_p1 = X[['c1', 'c2', 'c3']]\n",
    "X_p2 = X[['c1', 'ac1', 'ac2', 'ac3']]"
   ]
  },
  {
   "cell_type": "code",
   "execution_count": 79,
   "metadata": {},
   "outputs": [
    {
     "data": {
      "text/plain": [
       "c1    0.999840\n",
       "c2    0.000255\n",
       "c3    0.999495\n",
       "dtype: float64"
      ]
     },
     "execution_count": 79,
     "metadata": {},
     "output_type": "execute_result"
    }
   ],
   "source": [
    "linear_coeffs(X_p1, y)"
   ]
  },
  {
   "cell_type": "markdown",
   "metadata": {},
   "source": [
    "Recordamos que se calculan como $(X'X)^{-1} X'y$ (Ecuacion normal regresion lineal multiple)"
   ]
  },
  {
   "cell_type": "markdown",
   "metadata": {},
   "source": [
    "Vamos con la primera parte: $(X'X)$"
   ]
  },
  {
   "cell_type": "code",
   "execution_count": 80,
   "metadata": {},
   "outputs": [
    {
     "data": {
      "text/html": [
       "<div>\n",
       "<style scoped>\n",
       "    .dataframe tbody tr th:only-of-type {\n",
       "        vertical-align: middle;\n",
       "    }\n",
       "\n",
       "    .dataframe tbody tr th {\n",
       "        vertical-align: top;\n",
       "    }\n",
       "\n",
       "    .dataframe thead th {\n",
       "        text-align: right;\n",
       "    }\n",
       "</style>\n",
       "<table border=\"1\" class=\"dataframe\">\n",
       "  <thead>\n",
       "    <tr style=\"text-align: right;\">\n",
       "      <th></th>\n",
       "      <th>c1</th>\n",
       "      <th>c2</th>\n",
       "      <th>c3</th>\n",
       "    </tr>\n",
       "  </thead>\n",
       "  <tbody>\n",
       "    <tr>\n",
       "      <th>c1</th>\n",
       "      <td>50015.996776</td>\n",
       "      <td>-403.991722</td>\n",
       "      <td>140.796378</td>\n",
       "    </tr>\n",
       "    <tr>\n",
       "      <th>c2</th>\n",
       "      <td>-403.991722</td>\n",
       "      <td>50164.368738</td>\n",
       "      <td>243.702358</td>\n",
       "    </tr>\n",
       "    <tr>\n",
       "      <th>c3</th>\n",
       "      <td>140.796378</td>\n",
       "      <td>243.702358</td>\n",
       "      <td>49957.259386</td>\n",
       "    </tr>\n",
       "  </tbody>\n",
       "</table>\n",
       "</div>"
      ],
      "text/plain": [
       "              c1            c2            c3\n",
       "c1  50015.996776   -403.991722    140.796378\n",
       "c2   -403.991722  50164.368738    243.702358\n",
       "c3    140.796378    243.702358  49957.259386"
      ]
     },
     "execution_count": 80,
     "metadata": {},
     "output_type": "execute_result"
    }
   ],
   "source": [
    "M = X_p1.T @ X_p1\n",
    "M"
   ]
  },
  {
   "cell_type": "markdown",
   "metadata": {},
   "source": [
    "$M_{ij} = <X{i},X{j}>$ lo cual se parece sospechosamente a la matriz de covarianzas!"
   ]
  },
  {
   "cell_type": "code",
   "execution_count": 81,
   "metadata": {},
   "outputs": [
    {
     "data": {
      "text/html": [
       "<div>\n",
       "<style scoped>\n",
       "    .dataframe tbody tr th:only-of-type {\n",
       "        vertical-align: middle;\n",
       "    }\n",
       "\n",
       "    .dataframe tbody tr th {\n",
       "        vertical-align: top;\n",
       "    }\n",
       "\n",
       "    .dataframe thead th {\n",
       "        text-align: right;\n",
       "    }\n",
       "</style>\n",
       "<table border=\"1\" class=\"dataframe\">\n",
       "  <thead>\n",
       "    <tr style=\"text-align: right;\">\n",
       "      <th></th>\n",
       "      <th>c1</th>\n",
       "      <th>c2</th>\n",
       "      <th>c3</th>\n",
       "    </tr>\n",
       "  </thead>\n",
       "  <tbody>\n",
       "    <tr>\n",
       "      <th>c1</th>\n",
       "      <td>1.000340</td>\n",
       "      <td>-0.008080</td>\n",
       "      <td>0.002816</td>\n",
       "    </tr>\n",
       "    <tr>\n",
       "      <th>c2</th>\n",
       "      <td>-0.008080</td>\n",
       "      <td>1.003307</td>\n",
       "      <td>0.004874</td>\n",
       "    </tr>\n",
       "    <tr>\n",
       "      <th>c3</th>\n",
       "      <td>0.002816</td>\n",
       "      <td>0.004874</td>\n",
       "      <td>0.999165</td>\n",
       "    </tr>\n",
       "  </tbody>\n",
       "</table>\n",
       "</div>"
      ],
      "text/plain": [
       "          c1        c2        c3\n",
       "c1  1.000340 -0.008080  0.002816\n",
       "c2 -0.008080  1.003307  0.004874\n",
       "c3  0.002816  0.004874  0.999165"
      ]
     },
     "execution_count": 81,
     "metadata": {},
     "output_type": "execute_result"
    }
   ],
   "source": [
    "norm_factor = 1 / (len(X_p1) - 1)\n",
    "norm_factor * M"
   ]
  },
  {
   "cell_type": "markdown",
   "metadata": {},
   "source": [
    "Si las features tienen media 0, entonces $X'X$ es proporcional a la matrix de covarianzas $\\Sigma_{i,j} = Cov(X_i, X_j)$.\n",
    "Nota: Al calcular la matrix de covarianzas multiplicamos por 1/(len(X)-1), pero como hacemos la inversa tenemos que recordar que $(kA)^{-1} = k^{-1}A^{-1}$"
   ]
  },
  {
   "cell_type": "code",
   "execution_count": 82,
   "metadata": {},
   "outputs": [
    {
     "data": {
      "text/html": [
       "<div>\n",
       "<style scoped>\n",
       "    .dataframe tbody tr th:only-of-type {\n",
       "        vertical-align: middle;\n",
       "    }\n",
       "\n",
       "    .dataframe tbody tr th {\n",
       "        vertical-align: top;\n",
       "    }\n",
       "\n",
       "    .dataframe thead th {\n",
       "        text-align: right;\n",
       "    }\n",
       "</style>\n",
       "<table border=\"1\" class=\"dataframe\">\n",
       "  <thead>\n",
       "    <tr style=\"text-align: right;\">\n",
       "      <th></th>\n",
       "      <th>c1</th>\n",
       "      <th>c2</th>\n",
       "      <th>c3</th>\n",
       "    </tr>\n",
       "  </thead>\n",
       "  <tbody>\n",
       "    <tr>\n",
       "      <th>c1</th>\n",
       "      <td>1.000340</td>\n",
       "      <td>-0.008079</td>\n",
       "      <td>0.002817</td>\n",
       "    </tr>\n",
       "    <tr>\n",
       "      <th>c2</th>\n",
       "      <td>-0.008079</td>\n",
       "      <td>1.003302</td>\n",
       "      <td>0.004866</td>\n",
       "    </tr>\n",
       "    <tr>\n",
       "      <th>c3</th>\n",
       "      <td>0.002817</td>\n",
       "      <td>0.004866</td>\n",
       "      <td>0.999152</td>\n",
       "    </tr>\n",
       "  </tbody>\n",
       "</table>\n",
       "</div>"
      ],
      "text/plain": [
       "          c1        c2        c3\n",
       "c1  1.000340 -0.008079  0.002817\n",
       "c2 -0.008079  1.003302  0.004866\n",
       "c3  0.002817  0.004866  0.999152"
      ]
     },
     "execution_count": 82,
     "metadata": {},
     "output_type": "execute_result"
    }
   ],
   "source": [
    "X_p1.cov()"
   ]
  },
  {
   "cell_type": "markdown",
   "metadata": {},
   "source": [
    "Ahora con $(X'X)^{-1}$"
   ]
  },
  {
   "cell_type": "code",
   "execution_count": 35,
   "metadata": {},
   "outputs": [
    {
     "data": {
      "text/html": [
       "<div>\n",
       "<style scoped>\n",
       "    .dataframe tbody tr th:only-of-type {\n",
       "        vertical-align: middle;\n",
       "    }\n",
       "\n",
       "    .dataframe tbody tr th {\n",
       "        vertical-align: top;\n",
       "    }\n",
       "\n",
       "    .dataframe thead th {\n",
       "        text-align: right;\n",
       "    }\n",
       "</style>\n",
       "<table border=\"1\" class=\"dataframe\">\n",
       "  <thead>\n",
       "    <tr style=\"text-align: right;\">\n",
       "      <th></th>\n",
       "      <th>c1</th>\n",
       "      <th>c2</th>\n",
       "      <th>c3</th>\n",
       "    </tr>\n",
       "  </thead>\n",
       "  <tbody>\n",
       "    <tr>\n",
       "      <th>c1</th>\n",
       "      <td>1.999507e-05</td>\n",
       "      <td>1.613051e-07</td>\n",
       "      <td>-5.713971e-08</td>\n",
       "    </tr>\n",
       "    <tr>\n",
       "      <th>c2</th>\n",
       "      <td>1.613051e-07</td>\n",
       "      <td>1.993624e-05</td>\n",
       "      <td>-9.770793e-08</td>\n",
       "    </tr>\n",
       "    <tr>\n",
       "      <th>c3</th>\n",
       "      <td>-5.713971e-08</td>\n",
       "      <td>-9.770793e-08</td>\n",
       "      <td>2.001775e-05</td>\n",
       "    </tr>\n",
       "  </tbody>\n",
       "</table>\n",
       "</div>"
      ],
      "text/plain": [
       "              c1            c2            c3\n",
       "c1  1.999507e-05  1.613051e-07 -5.713971e-08\n",
       "c2  1.613051e-07  1.993624e-05 -9.770793e-08\n",
       "c3 -5.713971e-08 -9.770793e-08  2.001775e-05"
      ]
     },
     "execution_count": 35,
     "metadata": {},
     "output_type": "execute_result"
    }
   ],
   "source": [
    "M_inv = pd.DataFrame(np.linalg.inv(M), columns=M.columns, index=M.index)\n",
    "M_inv"
   ]
  },
  {
   "cell_type": "markdown",
   "metadata": {},
   "source": [
    "Que tampoco nos dice mucho no?"
   ]
  },
  {
   "cell_type": "code",
   "execution_count": 36,
   "metadata": {},
   "outputs": [
    {
     "data": {
      "text/html": [
       "<div>\n",
       "<style scoped>\n",
       "    .dataframe tbody tr th:only-of-type {\n",
       "        vertical-align: middle;\n",
       "    }\n",
       "\n",
       "    .dataframe tbody tr th {\n",
       "        vertical-align: top;\n",
       "    }\n",
       "\n",
       "    .dataframe thead th {\n",
       "        text-align: right;\n",
       "    }\n",
       "</style>\n",
       "<table border=\"1\" class=\"dataframe\">\n",
       "  <thead>\n",
       "    <tr style=\"text-align: right;\">\n",
       "      <th></th>\n",
       "      <th>c1</th>\n",
       "      <th>c2</th>\n",
       "      <th>c3</th>\n",
       "    </tr>\n",
       "  </thead>\n",
       "  <tbody>\n",
       "    <tr>\n",
       "      <th>c1</th>\n",
       "      <td>1.00</td>\n",
       "      <td>0.01</td>\n",
       "      <td>-0.0</td>\n",
       "    </tr>\n",
       "    <tr>\n",
       "      <th>c2</th>\n",
       "      <td>0.01</td>\n",
       "      <td>1.00</td>\n",
       "      <td>-0.0</td>\n",
       "    </tr>\n",
       "    <tr>\n",
       "      <th>c3</th>\n",
       "      <td>-0.00</td>\n",
       "      <td>-0.00</td>\n",
       "      <td>1.0</td>\n",
       "    </tr>\n",
       "  </tbody>\n",
       "</table>\n",
       "</div>"
      ],
      "text/plain": [
       "      c1    c2   c3\n",
       "c1  1.00  0.01 -0.0\n",
       "c2  0.01  1.00 -0.0\n",
       "c3 -0.00 -0.00  1.0"
      ]
     },
     "execution_count": 36,
     "metadata": {},
     "output_type": "execute_result"
    }
   ],
   "source": [
    "((1 / norm_factor) * M_inv).round(2)"
   ]
  },
  {
   "cell_type": "markdown",
   "metadata": {},
   "source": [
    "Vale.. en este ejemplo todo sale \"perfecto\", veamos uno con colinearidades"
   ]
  },
  {
   "cell_type": "code",
   "execution_count": 37,
   "metadata": {},
   "outputs": [
    {
     "data": {
      "text/html": [
       "<div>\n",
       "<style scoped>\n",
       "    .dataframe tbody tr th:only-of-type {\n",
       "        vertical-align: middle;\n",
       "    }\n",
       "\n",
       "    .dataframe tbody tr th {\n",
       "        vertical-align: top;\n",
       "    }\n",
       "\n",
       "    .dataframe thead th {\n",
       "        text-align: right;\n",
       "    }\n",
       "</style>\n",
       "<table border=\"1\" class=\"dataframe\">\n",
       "  <thead>\n",
       "    <tr style=\"text-align: right;\">\n",
       "      <th></th>\n",
       "      <th>c1</th>\n",
       "      <th>ac1</th>\n",
       "      <th>ac2</th>\n",
       "      <th>ac3</th>\n",
       "    </tr>\n",
       "  </thead>\n",
       "  <tbody>\n",
       "    <tr>\n",
       "      <th>c1</th>\n",
       "      <td>3.960882e-05</td>\n",
       "      <td>-1.981579e-05</td>\n",
       "      <td>-8.577396e-09</td>\n",
       "      <td>4.894932e-08</td>\n",
       "    </tr>\n",
       "    <tr>\n",
       "      <th>ac1</th>\n",
       "      <td>-1.981579e-05</td>\n",
       "      <td>4.015009e-05</td>\n",
       "      <td>-1.999799e-05</td>\n",
       "      <td>-1.170018e-07</td>\n",
       "    </tr>\n",
       "    <tr>\n",
       "      <th>ac2</th>\n",
       "      <td>-8.577396e-09</td>\n",
       "      <td>-1.999799e-05</td>\n",
       "      <td>4.025072e-05</td>\n",
       "      <td>-2.015216e-05</td>\n",
       "    </tr>\n",
       "    <tr>\n",
       "      <th>ac3</th>\n",
       "      <td>4.894932e-08</td>\n",
       "      <td>-1.170018e-07</td>\n",
       "      <td>-2.015216e-05</td>\n",
       "      <td>2.007168e-05</td>\n",
       "    </tr>\n",
       "  </tbody>\n",
       "</table>\n",
       "</div>"
      ],
      "text/plain": [
       "               c1           ac1           ac2           ac3\n",
       "c1   3.960882e-05 -1.981579e-05 -8.577396e-09  4.894932e-08\n",
       "ac1 -1.981579e-05  4.015009e-05 -1.999799e-05 -1.170018e-07\n",
       "ac2 -8.577396e-09 -1.999799e-05  4.025072e-05 -2.015216e-05\n",
       "ac3  4.894932e-08 -1.170018e-07 -2.015216e-05  2.007168e-05"
      ]
     },
     "execution_count": 37,
     "metadata": {},
     "output_type": "execute_result"
    }
   ],
   "source": [
    "M_p2 = (X_p2.T @ X_p2)\n",
    "M_p2_inv = pd.DataFrame(np.linalg.inv(M_p2), columns=M_p2.columns, index=M_p2.index)\n",
    "M_p2_inv"
   ]
  },
  {
   "cell_type": "markdown",
   "metadata": {},
   "source": [
    "Tampoco vemos mucho..."
   ]
  },
  {
   "cell_type": "code",
   "execution_count": 38,
   "metadata": {},
   "outputs": [
    {
     "data": {
      "text/html": [
       "<div>\n",
       "<style scoped>\n",
       "    .dataframe tbody tr th:only-of-type {\n",
       "        vertical-align: middle;\n",
       "    }\n",
       "\n",
       "    .dataframe tbody tr th {\n",
       "        vertical-align: top;\n",
       "    }\n",
       "\n",
       "    .dataframe thead th {\n",
       "        text-align: right;\n",
       "    }\n",
       "</style>\n",
       "<table border=\"1\" class=\"dataframe\">\n",
       "  <thead>\n",
       "    <tr style=\"text-align: right;\">\n",
       "      <th></th>\n",
       "      <th>c1</th>\n",
       "      <th>ac1</th>\n",
       "      <th>ac2</th>\n",
       "      <th>ac3</th>\n",
       "    </tr>\n",
       "  </thead>\n",
       "  <tbody>\n",
       "    <tr>\n",
       "      <th>c1</th>\n",
       "      <td>1.98</td>\n",
       "      <td>-0.99</td>\n",
       "      <td>-0.00</td>\n",
       "      <td>0.00</td>\n",
       "    </tr>\n",
       "    <tr>\n",
       "      <th>ac1</th>\n",
       "      <td>-0.99</td>\n",
       "      <td>2.01</td>\n",
       "      <td>-1.00</td>\n",
       "      <td>-0.01</td>\n",
       "    </tr>\n",
       "    <tr>\n",
       "      <th>ac2</th>\n",
       "      <td>-0.00</td>\n",
       "      <td>-1.00</td>\n",
       "      <td>2.01</td>\n",
       "      <td>-1.01</td>\n",
       "    </tr>\n",
       "    <tr>\n",
       "      <th>ac3</th>\n",
       "      <td>0.00</td>\n",
       "      <td>-0.01</td>\n",
       "      <td>-1.01</td>\n",
       "      <td>1.00</td>\n",
       "    </tr>\n",
       "  </tbody>\n",
       "</table>\n",
       "</div>"
      ],
      "text/plain": [
       "       c1   ac1   ac2   ac3\n",
       "c1   1.98 -0.99 -0.00  0.00\n",
       "ac1 -0.99  2.01 -1.00 -0.01\n",
       "ac2 -0.00 -1.00  2.01 -1.01\n",
       "ac3  0.00 -0.01 -1.01  1.00"
      ]
     },
     "execution_count": 38,
     "metadata": {},
     "output_type": "execute_result"
    }
   ],
   "source": [
    "((1/norm_factor) * M_p2_inv).round(2)"
   ]
  },
  {
   "cell_type": "markdown",
   "metadata": {},
   "source": [
    "Y llegamos a la precision matrix! En esta matrix, $\\Sigma^{-1}$, el elemento $\\Sigma^{-1}_{i,j}$ nos dice si $i$ y $j$ son indepedendientes condionado a que conocemos el resto de variables"
   ]
  },
  {
   "cell_type": "code",
   "execution_count": 39,
   "metadata": {},
   "outputs": [
    {
     "data": {
      "text/html": [
       "<div>\n",
       "<style scoped>\n",
       "    .dataframe tbody tr th:only-of-type {\n",
       "        vertical-align: middle;\n",
       "    }\n",
       "\n",
       "    .dataframe tbody tr th {\n",
       "        vertical-align: top;\n",
       "    }\n",
       "\n",
       "    .dataframe thead th {\n",
       "        text-align: right;\n",
       "    }\n",
       "</style>\n",
       "<table border=\"1\" class=\"dataframe\">\n",
       "  <thead>\n",
       "    <tr style=\"text-align: right;\">\n",
       "      <th></th>\n",
       "      <th>c1</th>\n",
       "      <th>ac1</th>\n",
       "      <th>ac2</th>\n",
       "      <th>ac3</th>\n",
       "    </tr>\n",
       "  </thead>\n",
       "  <tbody>\n",
       "    <tr>\n",
       "      <th>c1</th>\n",
       "      <td>1.98</td>\n",
       "      <td>-0.99</td>\n",
       "      <td>-0.00</td>\n",
       "      <td>0.00</td>\n",
       "    </tr>\n",
       "    <tr>\n",
       "      <th>ac1</th>\n",
       "      <td>-0.99</td>\n",
       "      <td>2.01</td>\n",
       "      <td>-1.00</td>\n",
       "      <td>-0.01</td>\n",
       "    </tr>\n",
       "    <tr>\n",
       "      <th>ac2</th>\n",
       "      <td>-0.00</td>\n",
       "      <td>-1.00</td>\n",
       "      <td>2.01</td>\n",
       "      <td>-1.01</td>\n",
       "    </tr>\n",
       "    <tr>\n",
       "      <th>ac3</th>\n",
       "      <td>0.00</td>\n",
       "      <td>-0.01</td>\n",
       "      <td>-1.01</td>\n",
       "      <td>1.00</td>\n",
       "    </tr>\n",
       "  </tbody>\n",
       "</table>\n",
       "</div>"
      ],
      "text/plain": [
       "       c1   ac1   ac2   ac3\n",
       "c1   1.98 -0.99 -0.00  0.00\n",
       "ac1 -0.99  2.01 -1.00 -0.01\n",
       "ac2 -0.00 -1.00  2.01 -1.01\n",
       "ac3  0.00 -0.01 -1.01  1.00"
      ]
     },
     "execution_count": 39,
     "metadata": {},
     "output_type": "execute_result"
    }
   ],
   "source": [
    "pd.DataFrame(np.linalg.inv(X_p2.cov()), columns=M_p2.columns, index=M_p2.index).round(2)"
   ]
  },
  {
   "cell_type": "markdown",
   "metadata": {},
   "source": [
    "Sigamos "
   ]
  },
  {
   "cell_type": "code",
   "execution_count": 40,
   "metadata": {},
   "outputs": [
    {
     "data": {
      "text/html": [
       "<div>\n",
       "<style scoped>\n",
       "    .dataframe tbody tr th:only-of-type {\n",
       "        vertical-align: middle;\n",
       "    }\n",
       "\n",
       "    .dataframe tbody tr th {\n",
       "        vertical-align: top;\n",
       "    }\n",
       "\n",
       "    .dataframe thead th {\n",
       "        text-align: right;\n",
       "    }\n",
       "</style>\n",
       "<table border=\"1\" class=\"dataframe\">\n",
       "  <thead>\n",
       "    <tr style=\"text-align: right;\">\n",
       "      <th></th>\n",
       "      <th>0</th>\n",
       "      <th>1</th>\n",
       "      <th>2</th>\n",
       "      <th>3</th>\n",
       "      <th>4</th>\n",
       "      <th>5</th>\n",
       "      <th>6</th>\n",
       "      <th>7</th>\n",
       "      <th>8</th>\n",
       "      <th>9</th>\n",
       "      <th>...</th>\n",
       "      <th>49990</th>\n",
       "      <th>49991</th>\n",
       "      <th>49992</th>\n",
       "      <th>49993</th>\n",
       "      <th>49994</th>\n",
       "      <th>49995</th>\n",
       "      <th>49996</th>\n",
       "      <th>49997</th>\n",
       "      <th>49998</th>\n",
       "      <th>49999</th>\n",
       "    </tr>\n",
       "  </thead>\n",
       "  <tbody>\n",
       "    <tr>\n",
       "      <th>c1</th>\n",
       "      <td>0.000010</td>\n",
       "      <td>-0.000003</td>\n",
       "      <td>0.000013</td>\n",
       "      <td>0.000031</td>\n",
       "      <td>-0.000005</td>\n",
       "      <td>-4.521137e-06</td>\n",
       "      <td>0.000032</td>\n",
       "      <td>0.000015</td>\n",
       "      <td>-0.000009</td>\n",
       "      <td>0.000011</td>\n",
       "      <td>...</td>\n",
       "      <td>0.000004</td>\n",
       "      <td>-0.000015</td>\n",
       "      <td>-0.000007</td>\n",
       "      <td>0.000030</td>\n",
       "      <td>-0.000049</td>\n",
       "      <td>0.000001</td>\n",
       "      <td>-6.012572e-07</td>\n",
       "      <td>0.000010</td>\n",
       "      <td>0.000005</td>\n",
       "      <td>0.000030</td>\n",
       "    </tr>\n",
       "    <tr>\n",
       "      <th>c2</th>\n",
       "      <td>0.000002</td>\n",
       "      <td>-0.000001</td>\n",
       "      <td>0.000019</td>\n",
       "      <td>0.000031</td>\n",
       "      <td>0.000014</td>\n",
       "      <td>2.012396e-05</td>\n",
       "      <td>-0.000004</td>\n",
       "      <td>0.000003</td>\n",
       "      <td>0.000029</td>\n",
       "      <td>0.000010</td>\n",
       "      <td>...</td>\n",
       "      <td>0.000013</td>\n",
       "      <td>0.000016</td>\n",
       "      <td>-0.000004</td>\n",
       "      <td>0.000004</td>\n",
       "      <td>0.000026</td>\n",
       "      <td>-0.000005</td>\n",
       "      <td>-1.138208e-05</td>\n",
       "      <td>0.000008</td>\n",
       "      <td>-0.000004</td>\n",
       "      <td>0.000003</td>\n",
       "    </tr>\n",
       "    <tr>\n",
       "      <th>c3</th>\n",
       "      <td>0.000021</td>\n",
       "      <td>-0.000023</td>\n",
       "      <td>0.000011</td>\n",
       "      <td>-0.000013</td>\n",
       "      <td>-0.000007</td>\n",
       "      <td>8.674729e-07</td>\n",
       "      <td>-0.000002</td>\n",
       "      <td>-0.000034</td>\n",
       "      <td>0.000028</td>\n",
       "      <td>0.000023</td>\n",
       "      <td>...</td>\n",
       "      <td>0.000027</td>\n",
       "      <td>-0.000009</td>\n",
       "      <td>0.000023</td>\n",
       "      <td>0.000027</td>\n",
       "      <td>-0.000016</td>\n",
       "      <td>0.000016</td>\n",
       "      <td>3.915812e-06</td>\n",
       "      <td>-0.000004</td>\n",
       "      <td>0.000003</td>\n",
       "      <td>0.000015</td>\n",
       "    </tr>\n",
       "  </tbody>\n",
       "</table>\n",
       "<p>3 rows × 50000 columns</p>\n",
       "</div>"
      ],
      "text/plain": [
       "       0         1         2         3         4             5         6      \\\n",
       "c1  0.000010 -0.000003  0.000013  0.000031 -0.000005 -4.521137e-06  0.000032   \n",
       "c2  0.000002 -0.000001  0.000019  0.000031  0.000014  2.012396e-05 -0.000004   \n",
       "c3  0.000021 -0.000023  0.000011 -0.000013 -0.000007  8.674729e-07 -0.000002   \n",
       "\n",
       "       7         8         9      ...     49990     49991     49992     49993  \\\n",
       "c1  0.000015 -0.000009  0.000011  ...  0.000004 -0.000015 -0.000007  0.000030   \n",
       "c2  0.000003  0.000029  0.000010  ...  0.000013  0.000016 -0.000004  0.000004   \n",
       "c3 -0.000034  0.000028  0.000023  ...  0.000027 -0.000009  0.000023  0.000027   \n",
       "\n",
       "       49994     49995         49996     49997     49998     49999  \n",
       "c1 -0.000049  0.000001 -6.012572e-07  0.000010  0.000005  0.000030  \n",
       "c2  0.000026 -0.000005 -1.138208e-05  0.000008 -0.000004  0.000003  \n",
       "c3 -0.000016  0.000016  3.915812e-06 -0.000004  0.000003  0.000015  \n",
       "\n",
       "[3 rows x 50000 columns]"
      ]
     },
     "execution_count": 40,
     "metadata": {},
     "output_type": "execute_result"
    }
   ],
   "source": [
    "M_inv @ X_p1.T"
   ]
  },
  {
   "cell_type": "code",
   "execution_count": 41,
   "metadata": {},
   "outputs": [
    {
     "data": {
      "text/html": [
       "<div>\n",
       "<style scoped>\n",
       "    .dataframe tbody tr th:only-of-type {\n",
       "        vertical-align: middle;\n",
       "    }\n",
       "\n",
       "    .dataframe tbody tr th {\n",
       "        vertical-align: top;\n",
       "    }\n",
       "\n",
       "    .dataframe thead th {\n",
       "        text-align: right;\n",
       "    }\n",
       "</style>\n",
       "<table border=\"1\" class=\"dataframe\">\n",
       "  <thead>\n",
       "    <tr style=\"text-align: right;\">\n",
       "      <th></th>\n",
       "      <th>0</th>\n",
       "      <th>1</th>\n",
       "      <th>2</th>\n",
       "      <th>3</th>\n",
       "      <th>4</th>\n",
       "      <th>5</th>\n",
       "      <th>6</th>\n",
       "      <th>7</th>\n",
       "      <th>8</th>\n",
       "      <th>9</th>\n",
       "      <th>...</th>\n",
       "      <th>49990</th>\n",
       "      <th>49991</th>\n",
       "      <th>49992</th>\n",
       "      <th>49993</th>\n",
       "      <th>49994</th>\n",
       "      <th>49995</th>\n",
       "      <th>49996</th>\n",
       "      <th>49997</th>\n",
       "      <th>49998</th>\n",
       "      <th>49999</th>\n",
       "    </tr>\n",
       "  </thead>\n",
       "  <tbody>\n",
       "    <tr>\n",
       "      <th>c1</th>\n",
       "      <td>0.000008</td>\n",
       "      <td>-0.000002</td>\n",
       "      <td>-0.000006</td>\n",
       "      <td>-6.238117e-08</td>\n",
       "      <td>-0.000018</td>\n",
       "      <td>-0.000025</td>\n",
       "      <td>0.000036</td>\n",
       "      <td>0.000013</td>\n",
       "      <td>-0.000039</td>\n",
       "      <td>3.615517e-07</td>\n",
       "      <td>...</td>\n",
       "      <td>-0.000009</td>\n",
       "      <td>-0.000031</td>\n",
       "      <td>-0.000003</td>\n",
       "      <td>0.000026</td>\n",
       "      <td>-0.000075</td>\n",
       "      <td>0.000006</td>\n",
       "      <td>0.000011</td>\n",
       "      <td>0.000002</td>\n",
       "      <td>0.000009</td>\n",
       "      <td>0.000028</td>\n",
       "    </tr>\n",
       "    <tr>\n",
       "      <th>ac1</th>\n",
       "      <td>-0.000019</td>\n",
       "      <td>0.000022</td>\n",
       "      <td>0.000008</td>\n",
       "      <td>4.333755e-05</td>\n",
       "      <td>0.000020</td>\n",
       "      <td>0.000019</td>\n",
       "      <td>-0.000002</td>\n",
       "      <td>0.000036</td>\n",
       "      <td>0.000002</td>\n",
       "      <td>-1.207732e-05</td>\n",
       "      <td>...</td>\n",
       "      <td>-0.000014</td>\n",
       "      <td>0.000025</td>\n",
       "      <td>-0.000028</td>\n",
       "      <td>-0.000023</td>\n",
       "      <td>0.000042</td>\n",
       "      <td>-0.000020</td>\n",
       "      <td>-0.000015</td>\n",
       "      <td>0.000012</td>\n",
       "      <td>-0.000007</td>\n",
       "      <td>-0.000013</td>\n",
       "    </tr>\n",
       "    <tr>\n",
       "      <th>ac2</th>\n",
       "      <td>-0.000007</td>\n",
       "      <td>-0.000021</td>\n",
       "      <td>0.000034</td>\n",
       "      <td>-4.020255e-05</td>\n",
       "      <td>-0.000004</td>\n",
       "      <td>0.000012</td>\n",
       "      <td>-0.000020</td>\n",
       "      <td>-0.000045</td>\n",
       "      <td>0.000025</td>\n",
       "      <td>3.489035e-05</td>\n",
       "      <td>...</td>\n",
       "      <td>0.000054</td>\n",
       "      <td>-0.000016</td>\n",
       "      <td>0.000040</td>\n",
       "      <td>0.000010</td>\n",
       "      <td>-0.000004</td>\n",
       "      <td>0.000041</td>\n",
       "      <td>-0.000008</td>\n",
       "      <td>-0.000007</td>\n",
       "      <td>-0.000014</td>\n",
       "      <td>0.000037</td>\n",
       "    </tr>\n",
       "    <tr>\n",
       "      <th>ac3</th>\n",
       "      <td>0.000027</td>\n",
       "      <td>-0.000002</td>\n",
       "      <td>-0.000022</td>\n",
       "      <td>2.745988e-05</td>\n",
       "      <td>-0.000002</td>\n",
       "      <td>-0.000011</td>\n",
       "      <td>0.000018</td>\n",
       "      <td>0.000011</td>\n",
       "      <td>0.000002</td>\n",
       "      <td>-1.221551e-05</td>\n",
       "      <td>...</td>\n",
       "      <td>-0.000027</td>\n",
       "      <td>0.000008</td>\n",
       "      <td>-0.000016</td>\n",
       "      <td>0.000017</td>\n",
       "      <td>-0.000012</td>\n",
       "      <td>-0.000025</td>\n",
       "      <td>0.000011</td>\n",
       "      <td>0.000003</td>\n",
       "      <td>0.000017</td>\n",
       "      <td>-0.000022</td>\n",
       "    </tr>\n",
       "  </tbody>\n",
       "</table>\n",
       "<p>4 rows × 50000 columns</p>\n",
       "</div>"
      ],
      "text/plain": [
       "        0         1         2             3         4         5         6      \\\n",
       "c1   0.000008 -0.000002 -0.000006 -6.238117e-08 -0.000018 -0.000025  0.000036   \n",
       "ac1 -0.000019  0.000022  0.000008  4.333755e-05  0.000020  0.000019 -0.000002   \n",
       "ac2 -0.000007 -0.000021  0.000034 -4.020255e-05 -0.000004  0.000012 -0.000020   \n",
       "ac3  0.000027 -0.000002 -0.000022  2.745988e-05 -0.000002 -0.000011  0.000018   \n",
       "\n",
       "        7         8             9      ...     49990     49991     49992  \\\n",
       "c1   0.000013 -0.000039  3.615517e-07  ... -0.000009 -0.000031 -0.000003   \n",
       "ac1  0.000036  0.000002 -1.207732e-05  ... -0.000014  0.000025 -0.000028   \n",
       "ac2 -0.000045  0.000025  3.489035e-05  ...  0.000054 -0.000016  0.000040   \n",
       "ac3  0.000011  0.000002 -1.221551e-05  ... -0.000027  0.000008 -0.000016   \n",
       "\n",
       "        49993     49994     49995     49996     49997     49998     49999  \n",
       "c1   0.000026 -0.000075  0.000006  0.000011  0.000002  0.000009  0.000028  \n",
       "ac1 -0.000023  0.000042 -0.000020 -0.000015  0.000012 -0.000007 -0.000013  \n",
       "ac2  0.000010 -0.000004  0.000041 -0.000008 -0.000007 -0.000014  0.000037  \n",
       "ac3  0.000017 -0.000012 -0.000025  0.000011  0.000003  0.000017 -0.000022  \n",
       "\n",
       "[4 rows x 50000 columns]"
      ]
     },
     "execution_count": 41,
     "metadata": {},
     "output_type": "execute_result"
    }
   ],
   "source": [
    "M_p2_inv @ X_p2.T"
   ]
  },
  {
   "cell_type": "markdown",
   "metadata": {},
   "source": [
    "Interpretación (no rigurosa): Hemos descontado los efectos de las otras variables y ahora los coeficientes se pueden calcular por separado"
   ]
  },
  {
   "cell_type": "markdown",
   "metadata": {},
   "source": [
    "Y como interpretamos esto?"
   ]
  },
  {
   "cell_type": "code",
   "execution_count": 42,
   "metadata": {},
   "outputs": [
    {
     "data": {
      "image/png": "[encoded data removed]",
      "text/plain": [
       "<Figure size 432x288 with 1 Axes>"
      ]
     },
     "metadata": {
      "needs_background": "light"
     },
     "output_type": "display_data"
    }
   ],
   "source": [
    "ax = plt.scatter((M_inv @ X_p1.T).loc['c1'], y)"
   ]
  },
  {
   "cell_type": "code",
   "execution_count": 43,
   "metadata": {},
   "outputs": [
    {
     "data": {
      "text/plain": [
       "0.9998399914242844"
      ]
     },
     "execution_count": 43,
     "metadata": {},
     "output_type": "execute_result"
    }
   ],
   "source": [
    "(M_inv @ X_p1.T).loc['c1'] @  y"
   ]
  },
  {
   "cell_type": "code",
   "execution_count": 105,
   "metadata": {},
   "outputs": [
    {
     "data": {
      "image/png": "[encoded data removed]",
      "text/plain": [
       "<Figure size 432x288 with 1 Axes>"
      ]
     },
     "metadata": {
      "needs_background": "light"
     },
     "output_type": "display_data"
    }
   ],
   "source": [
    "plt.hist(y);"
   ]
  },
  {
   "cell_type": "code",
   "execution_count": 110,
   "metadata": {},
   "outputs": [
    {
     "data": {
      "image/png": "[encoded data removed]",
      "text/plain": [
       "<Figure size 432x288 with 1 Axes>"
      ]
     },
     "metadata": {
      "needs_background": "light"
     },
     "output_type": "display_data"
    }
   ],
   "source": [
    "plt.hist((M_inv @ X_p1.T).loc['c2']);"
   ]
  },
  {
   "cell_type": "code",
   "execution_count": 44,
   "metadata": {},
   "outputs": [
    {
     "data": {
      "text/plain": [
       "<matplotlib.collections.PathCollection at 0x7f9d65b9b070>"
      ]
     },
     "execution_count": 44,
     "metadata": {},
     "output_type": "execute_result"
    },
    {
     "data": {
      "image/png": "[encoded data removed]",
      "text/plain": [
       "<Figure size 432x288 with 1 Axes>"
      ]
     },
     "metadata": {
      "needs_background": "light"
     },
     "output_type": "display_data"
    }
   ],
   "source": [
    "plt.scatter((M_inv @ X_p1.T).loc['c2'], y)"
   ]
  },
  {
   "cell_type": "code",
   "execution_count": 83,
   "metadata": {},
   "outputs": [
    {
     "data": {
      "text/plain": [
       "0.0002549010007705196"
      ]
     },
     "execution_count": 83,
     "metadata": {},
     "output_type": "execute_result"
    }
   ],
   "source": [
    "(M_inv @ X_p1.T).loc['c2'] @  y"
   ]
  },
  {
   "cell_type": "code",
   "execution_count": 45,
   "metadata": {},
   "outputs": [
    {
     "data": {
      "text/plain": [
       "<matplotlib.collections.PathCollection at 0x7f9d65b72370>"
      ]
     },
     "execution_count": 45,
     "metadata": {},
     "output_type": "execute_result"
    },
    {
     "data": {
      "image/png": "[encoded data removed]",
      "text/plain": [
       "<Figure size 432x288 with 1 Axes>"
      ]
     },
     "metadata": {
      "needs_background": "light"
     },
     "output_type": "display_data"
    }
   ],
   "source": [
    "plt.scatter((M_inv @ X_p1.T).loc['c3'], y)"
   ]
  },
  {
   "cell_type": "code",
   "execution_count": 46,
   "metadata": {},
   "outputs": [
    {
     "data": {
      "text/plain": [
       "0.9994950592392471"
      ]
     },
     "execution_count": 46,
     "metadata": {},
     "output_type": "execute_result"
    }
   ],
   "source": [
    "(M_inv @ X_p1.T).loc['c3'] @  y"
   ]
  },
  {
   "cell_type": "markdown",
   "metadata": {},
   "source": [
    "Y finalmente (recordando que y = c_1 + c_3 + N(0, 0.1))"
   ]
  },
  {
   "cell_type": "code",
   "execution_count": 47,
   "metadata": {},
   "outputs": [
    {
     "data": {
      "text/plain": [
       "c1    0.999840\n",
       "c2    0.000255\n",
       "c3    0.999495\n",
       "dtype: float64"
      ]
     },
     "execution_count": 47,
     "metadata": {},
     "output_type": "execute_result"
    }
   ],
   "source": [
    "coeffs_p1 = M_inv @ X_p1.T @ y\n",
    "coeffs_p1"
   ]
  },
  {
   "cell_type": "markdown",
   "metadata": {},
   "source": [
    "Los coeficientes se calculan correctamente "
   ]
  },
  {
   "cell_type": "code",
   "execution_count": 48,
   "metadata": {},
   "outputs": [
    {
     "data": {
      "text/plain": [
       "c1     0.999587\n",
       "ac1   -0.999244\n",
       "ac2    0.998874\n",
       "ac3    0.000619\n",
       "dtype: float64"
      ]
     },
     "execution_count": 48,
     "metadata": {},
     "output_type": "execute_result"
    }
   ],
   "source": [
    "coeffs_p2 = M_p2_inv @ X_p2.T @ y\n",
    "coeffs_p2"
   ]
  },
  {
   "cell_type": "markdown",
   "metadata": {},
   "source": [
    "En este caso nuestras variables explicativas tienen toda la informacion necesaria para calcular y, pero es un poco mas tedioso...:\n",
    "* c1\n",
    "* ac1=c1+c2\n",
    "* ac2=c1+c2+c3\n",
    "* ac3=c1+c2+c3+c4"
   ]
  },
  {
   "cell_type": "markdown",
   "metadata": {},
   "source": [
    "En resumen:\n",
    "* La contribución del coeficiente c1 es cancelada con ac1, que a su vez añade el efecto negativo c2\n",
    "* El coeficiente ac2 añade c1, c2 y c3. La parte de c2 es cancelada por el efecto negativo sobre c2 de ac1\n",
    "* El coeficience ac3 no aporta nada, ya que si lo hiciera, no tendríamos forma de cancelar el efecto sobre c4"
   ]
  },
  {
   "cell_type": "code",
   "execution_count": 49,
   "metadata": {},
   "outputs": [
    {
     "data": {
      "text/plain": [
       "<matplotlib.collections.PathCollection at 0x7f9d65b46b50>"
      ]
     },
     "execution_count": 49,
     "metadata": {},
     "output_type": "execute_result"
    },
    {
     "data": {
      "image/png": "[encoded data removed]",
      "text/plain": [
       "<Figure size 432x288 with 1 Axes>"
      ]
     },
     "metadata": {
      "needs_background": "light"
     },
     "output_type": "display_data"
    }
   ],
   "source": [
    "plt.scatter((M_p2_inv @ X_p2.T).loc['ac1'], y)"
   ]
  },
  {
   "cell_type": "code",
   "execution_count": 84,
   "metadata": {},
   "outputs": [
    {
     "data": {
      "text/plain": [
       "-0.9992437664756181"
      ]
     },
     "execution_count": 84,
     "metadata": {},
     "output_type": "execute_result"
    }
   ],
   "source": [
    "(M_p2_inv @ X_p2.T).loc['ac1'] @  y"
   ]
  }
 ],
 "metadata": {
  "kernelspec": {
   "display_name": "Python 3",
   "language": "python",
   "name": "python3"
  },
  "language_info": {
   "codemirror_mode": {
    "name": "ipython",
    "version": 3
   },
   "file_extension": ".py",
   "mimetype": "text/x-python",
   "name": "python",
   "nbconvert_exporter": "python",
   "pygments_lexer": "ipython3",
   "version": "3.8.5"
  }
 },
 "nbformat": 4,
 "nbformat_minor": 4
}
