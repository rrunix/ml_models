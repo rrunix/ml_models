{
 "cells": [
  {
   "cell_type": "markdown",
   "metadata": {},
   "source": [
    "# Evaluación de modelos de Machine Learning"
   ]
  },
  {
   "cell_type": "code",
   "execution_count": 7,
   "metadata": {},
   "outputs": [],
   "source": [
    "import numpy as np\n",
    "import matplotlib.pyplot as plt\n",
    "import random"
   ]
  },
  {
   "cell_type": "markdown",
   "metadata": {},
   "source": [
    "# Métricas de evaluación\n",
    "\n",
    "**DSLAB - Rubén Rodríguez Fernández**",
    "La evaluación de modelos de ML se efectua principalmente en dos ámbitos:\n",
   
    "\n",
    "* Evaluación **offline** -> modelos no desplegados (e.g., selección de modelos y requisitos de negocio)\n",
    "* Evaluación **online** -> modelos desplegados (e.g., métricas de negocio)"
   ]
  },
  {
   "cell_type": "markdown",
   "metadata": {},
   "source": [
    "Además, estos dos ámbitos también pueden tener datos diferentes.\n",
    "\n",
    "* En la evaluación offline, generalmente se utilizan datos **historicos**, con los que queremos caracterizar un determinado proceso.\n",
    "* En la evaluación online, los datos suelen ser **\"en vivo\"**. "
   ]
  },
  {
   "cell_type": "markdown",
   "metadata": {},
   "source": [
    "Dependiendo del tipo de proceso que genera los datos \"en vivo\", tenemos dos escenarios:\n",
    "\n",
    "* El proceso no cambia, y los datos pertenecen a la **misma distribución**.\n",
    "* El proceso cambia, y por lo tanto, la distribución de los datos es **diferente**. Este cambio se denomina **concept drift**, y generalmente implica una degradación de los resultados del modelo."
   ]
  },
  {
   "cell_type": "markdown",
   "metadata": {},
   "source": [
    "Otro aspecto interesante a tener en cuenta es si el modelo desplegado afecta a la futura recogida de datos. Algunos ejemplos:\n",
    "\n",
    "* Predicción de riesgo de muerte en una operación. Los pacientes con un alto riesgo podrían decir no operarse, haciendo que los nuevos datos pertenezcan a las clases de bajo riesgo.\n",
    "* Predicción de impago de prestamos. Si los bancos no dan prestamos a clientes con bajo riesgo, la mayoría de los futuros datos pertenecerán a bajo riesgo.\n",
    "\n",
    "En el primero de los casos, el modelo \"quiere\" que el paciente de alto riesgo se muera para confirmar que estaba en lo cierto. En el segundo caso el razonamiento es analogo."
   ]
  },
  {
   "cell_type": "markdown",
   "metadata": {},
   "source": [
    "Nos centraremos en la evaluación offline"
   ]
  },
  {
   "cell_type": "markdown",
   "metadata": {},
   "source": [
    "## Evaluación offline"
   ]
  },
  {
   "cell_type": "markdown",
   "metadata": {},
   "source": [
    "La evaluación offline nos permite seleccionar un modelo, así como determinar si ese modelo cumple los requisitos necesarios para desplegarlo en producción."
   ]
  },
  {
   "cell_type": "markdown",
   "metadata": {},
   "source": [
    "Dicha evaluación se realiza en diferentes conjuntos de datos dependiendo del objetivo de la misma. A priori, tenemos dos grupos principales:\n",
    "\n",
    "* Conjunto de entrenamiento: Elección de modelo, optimización de hiperparámetros...\n",
    "* Conjunto de test: Determinar si se cumplen los requisitos de negocio. Este conjunto de datos **solo** se utiliza justo antes de reportar, no se puede tomar **ninguna decisión** en base al resultado de estos datos. El objetivo es simular una puesta en producción. Esta evaluación es una estimación de la generalización del modelo a datos **nuevos**.\n",
    "\n",
    "\n",
    "**NOTA**: A veces cuando tenemos pocos datos no se hace esta división (actualmente esto no suele ser un problema), y se utilizan técnicas como cross-validation o bootstrapping directamente sobre todo el conjunto de datos."
   ]
  },
  {
   "cell_type": "markdown",
   "metadata": {},
   "source": [
    "Hablando de la distribución de los conjuntos de train y test, ¿Tienen que ser iguales?\n",
    "\n",
    "Respuesta rápida: **NO**. Tenemos que asegurarnos de que test solo contiene datos de la distribución de interés, ya que aquí tomaremos la decisión de si nuestro sistema es apto o no. En train podemos tener datos de distribuciones diferentes. Un ejemplo de esta situación es transfer learning."
   ]
  },
  {
   "cell_type": "markdown",
   "metadata": {},
   "source": [
    "¿Cómo realizo la división entre train y test?. El tipo de división depende de los datos:\n",
    "\n",
    "* Datos tabulares: Se realiza de forma **aleatoria**.\n",
    "![Holdout](data/evaluation/holdout.png)\n",
    "\n",
    "* Datos con una estructura temporal: Se realizan **cortes temporales**. En la escala temporal, los datos de entrenamiento preceden a los de test. Sino se realizan cortes temporales, estaremos filtrando información de train a test, y los resultados de test serán sobreoptimistas.\n",
    "![Holdout](data/evaluation/holdout_ts.png)\n",
    "\n",
    "**NOTA**: En el caso de que las distribuciones sean diferentes, recordad que test **solo** debe contener datos de la distribución de interes."
   ]
  },
  {
   "cell_type": "markdown",
   "metadata": {},
   "source": [
    "¿Que tamaños deberían de tener estos conjuntos?\n",
    "\n",
    "* Datasets muy pequeños: No realizar cortes (houldout) -> cross validation o bootstrapping.\n",
    "* Datasets pequeños: 60-40\n",
    "* Datasets medianos: 70-30 o 80-20\n",
    "* Datasets grandes: 90-10\n",
    "* Datasets muy grandes: 95-5"
   ]
  },
  {
   "cell_type": "markdown",
   "metadata": {},
   "source": [
    "### Entrenamiento"
   ]
  },
  {
   "cell_type": "markdown",
   "metadata": {},
   "source": [
    "* En general (salvo datasets muy pequeños) utilizaremos este dataset para seleccionar nuestro modelo y sus hiperparámetros tratando de maximizar una métrica.\n",
    "* Pero si evaluamos nuestro modelo en entranamiento, podemos acabar teniendo una estimación de su desempeño sobreoptimista.\n",
    "* **Posibles soluciones**: Crear otro nuevo conjunto de datos (validación, se realiza igual que train/test), cross-validation, boostraping."
   ]
  },
  {
   "cell_type": "markdown",
   "metadata": {},
   "source": [
    "**Cross-validation**"
   ]
  },
  {
   "cell_type": "markdown",
   "metadata": {},
   "source": [
    "En datos tabulares:\n",
    "* El modelo se entrena en k-1 grupos, y el grupo k se utiliza para evaluar el modelo\n",
    "* Este se proceso se repite k veces (para evaluar el modeo en todos los folds)\n",
    "\n",
    "En series temporales:\n",
    "* El modelo se entrena en los folds $[1, \\ldots, u)$ y se evalua en el fold $u$ ($\\forall u \\in 1, \\ldots, k-1$)\n",
    "* En total, se obtienen evaluaciones de los folds $(1, k]$. Del primer fold no obtenemos una evaluación."
   ]
  },
  {
   "cell_type": "markdown",
   "metadata": {},
   "source": [
    "Algunas variantes:\n",
    "* LOOCV (leave-one-out cv): Se realiza cross-validation utilizando $k=\\#\\mathcal{D}$.\n",
    "* LPOCV (leave-p-out cv): Similar a LOOCV, pero el modelo se prueba en todas las posibles formas de obtener P elementos a partir de $\\mathcal{D}$. Es muy costoso computacionalmente, y no se suele realizar de forma exhaustiva.\n",
    "* Repeated subsample selection: Se realizan, un número determinado de iteraciones, particiones de train y validación de forma aleatoria."
   ]
  },
  {
   "cell_type": "markdown",
   "metadata": {},
   "source": [
    "Se suele utilizar para selección y evaluación de modelos. En general no está sesgado y tiene una alta varianza."
   ]
  },
  {
   "cell_type": "markdown",
   "metadata": {},
   "source": [
    "![Holdout](data/evaluation/crossval.png)"
   ]
  },
  {
   "cell_type": "markdown",
   "metadata": {},
   "source": [
    "**Boostraping en validación de modelos**"
   ]
  },
  {
   "cell_type": "markdown",
   "metadata": {},
   "source": [
    "Bootstrap al igual que k-fold es una técnica de remuestreo. En este caso, se generan un número determinado de datasets (al igual que en k-fold). La diferencia, es que en boostrap estos datasets se generan utilizando remuestreo con remplazamiento (es decir, una misma observación puede aparecer más de una vez). "
   ]
  },
  {
   "cell_type": "markdown",
   "metadata": {},
   "source": [
    "* Boostrap simula nuevas observaciones muestreando de la distribución empirica (la distribución que hemos observado y debería representar el proceso subyacente). \n",
    "* Si hicieramos muestreo sin remplazo (no devolvemos las observaciones), estaríamos modificando la distribución empirica.\n",
    "* Podemos entender las muestras repetidas como muestras similares en la población"
   ]
  },
  {
   "cell_type": "markdown",
   "metadata": {},
   "source": [
    "Los estadisticos se miden en el dataset generado con boostrap (\"en el dataset de train\"). Aunque en algunas variaciones también se considera su valor en OOB."
   ]
  },
  {
   "cell_type": "markdown",
   "metadata": {},
   "source": [
    "Se suele utilizar como mecanismo para cuantificar la incertidumbre en el estadístico (e.g., standard error), y métodos de bagging. Esta sesgado y generalmente tiene poca varianza."
   ]
  },
  {
   "cell_type": "markdown",
   "metadata": {},
   "source": [
    "![Holdout](data/evaluation/boostrap.png)"
   ]
  },
  {
   "cell_type": "markdown",
   "metadata": {},
   "source": [
    "**Curiosidad**: ¿Cuál es la probabilidad de que una observación aparezca en un dataset generado con boostraping?"
   ]
  },
  {
   "cell_type": "markdown",
   "metadata": {},
   "source": [
    "* La probabilidad de elegir de forma aleatoria (distribución uniforme es $1/N$)\n",
    "* Si la de un elemento $c$ es 1/N, la de cualquier elemento menos ese es $1 - 1/N$\n",
    "* Entonces.. La probabilidad de que no salga $c$ al realizar N veces este proceso es $(1 - 1/N)^N$\n",
    "* Y finalmente, la probabilidad de qeu aparezca $c$ es $1 - (1 - 1/N)^N$\n",
    "* A medida que $N \\to \\infty$, la probabilidad es $1- e^{-1}$"
   ]
  },
  {
   "cell_type": "code",
   "execution_count": 39,
   "metadata": {},
   "outputs": [],
   "source": [
    "real_prob = 1 - 1 / np.e"
   ]
  },
  {
   "cell_type": "code",
   "execution_count": 8,
   "metadata": {},
   "outputs": [],
   "source": [
    "X = list(range(100))"
   ]
  },
  {
   "cell_type": "code",
   "execution_count": 9,
   "metadata": {},
   "outputs": [],
   "source": [
    "def boostrap_sample(X, size, seed=42):\n",
    "    random.seed(seed)\n",
    "    return [random.choice(X) for _ in range(size)]"
   ]
  },
  {
   "cell_type": "code",
   "execution_count": 46,
   "metadata": {},
   "outputs": [],
   "source": [
    "def calc_prob(X, iterations, obs):\n",
    "    return sum(obs in boostrap_sample(X, size=len(X), seed=i) for i in range(iterations)) / iterations"
   ]
  },
  {
   "cell_type": "code",
   "execution_count": 47,
   "metadata": {},
   "outputs": [],
   "source": [
    "obs = 42\n",
    "iterations, prob = zip(*[(N, calc_prob(X, N, obs)) for N in range(10, 100_000, 1_000)])"
   ]
  },
  {
   "cell_type": "code",
   "execution_count": 48,
   "metadata": {},
   "outputs": [
    {
     "data": {
      "text/plain": [
       "<matplotlib.lines.Line2D at 0x7f5fc115b160>"
      ]
     },
     "execution_count": 48,
     "metadata": {},
     "output_type": "execute_result"
    },
    {
     "data": {
      "image/png": "[encoded data removed]",
      "text/plain": [
       "<Figure size 432x288 with 1 Axes>"
      ]
     },
     "metadata": {
      "needs_background": "light"
     },
     "output_type": "display_data"
    }
   ],
   "source": [
    "plt.plot(iterations, prob)\n",
    "plt.axhline(real_prob, color='red')"
   ]
  },
  {
   "cell_type": "code",
   "execution_count": 113,
   "metadata": {},
   "outputs": [],
   "source": [
    "np.random.seed(42)\n",
    "Xn = np.random.normal(size=10_000)"
   ]
  },
  {
   "cell_type": "code",
   "execution_count": 114,
   "metadata": {},
   "outputs": [],
   "source": [
    "def fast_boostrap_sample_mean(X, reps, seed=42):\n",
    "    np.random.seed(seed)\n",
    "    means = np.random.choice(Xn, size=(reps, len(Xn)), replace=True)\n",
    "    return np.mean(means, axis=1)"
   ]
  },
  {
   "cell_type": "code",
   "execution_count": 115,
   "metadata": {},
   "outputs": [],
   "source": [
    "boostrap_datasets = fast_boostrap_sample_mean(Xn, 10_000)"
   ]
  },
  {
   "cell_type": "code",
   "execution_count": 116,
   "metadata": {},
   "outputs": [
    {
     "data": {
      "text/plain": [
       "<matplotlib.lines.Line2D at 0x7f5fbc8c59a0>"
      ]
     },
     "execution_count": 116,
     "metadata": {},
     "output_type": "execute_result"
    },
    {
     "data": {
      "image/png": "[encoded data removed]",
      "text/plain": [
       "<Figure size 432x288 with 1 Axes>"
      ]
     },
     "metadata": {
      "needs_background": "light"
     },
     "output_type": "display_data"
    }
   ],
   "source": [
    "plt.hist(boostrap_datasets, bins=100);\n",
    "plt.axvline(0.0, color='red')"
   ]
  },
  {
   "cell_type": "code",
   "execution_count": 117,
   "metadata": {},
   "outputs": [],
   "source": [
    "iterations, boostrap_datasets_fmeans = zip(*[(N, np.mean(fast_boostrap_sample_mean(Xn, N))) for N in range(10, 10_000, 500)])"
   ]
  },
  {
   "cell_type": "code",
   "execution_count": 118,
   "metadata": {},
   "outputs": [
    {
     "data": {
      "text/plain": [
       "<matplotlib.lines.Line2D at 0x7f5fbc0c8400>"
      ]
     },
     "execution_count": 118,
     "metadata": {},
     "output_type": "execute_result"
    },
    {
     "data": {
      "image/png": "[encoded data removed]",
      "text/plain": [
       "<Figure size 432x288 with 1 Axes>"
      ]
     },
     "metadata": {
      "needs_background": "light"
     },
     "output_type": "display_data"
    }
   ],
   "source": [
    "plt.plot(iterations, boostrap_datasets_fmeans)\n",
    "plt.axhline(0, color='red')"
   ]
  },
  {
   "cell_type": "markdown",
   "metadata": {},
   "source": [
    "## ¿Y qué métrica utilizamos para evaluar el modelo?"
   ]
  },
  {
   "cell_type": "markdown",
   "metadata": {},
   "source": [
    "![errortypes](https://chemicalstatistician.files.wordpress.com/2014/05/pregnant.jpg?w=500&h=374)\n",
    "\n",
    "Fuente: https://chemicalstatistician.files.wordpress.com/2014/05/pregnant.jpg?w=500&h=374\n"
   ]
  },
  {
   "cell_type": "markdown",
   "metadata": {},
   "source": [
    "**Métricas de entrenamiento vs métricas de evaluación**\n",
    "\n",
    "Generalmente la métrica que el modelo trata de optimizar no es la misma que la métrica que utilizamos para evaluar nuestro modelo.\n",
    "Ejemplos:\n",
    "* En la regresión lineal se trata de minimizar el error cuadratico medio (mse).\n",
    "* En redes neuronales, en general se trata de minimizar la categorical cross entropy entre la distribución de las etiquetas originales y las predicciones. Nosotros \"queremos\" que sus distribuciones sean iguales (Ver Kullback-Leibler divergence, que es una medida de como dos distribuciones difieren)\n",
    "* En redes bayesianas, generalmente se quiere obtener un MLE (Maximum likelihood estimation). De una forma no rigurosa, queremos buscar los parámetros de nuestra red bayesiana que sean mas probables bajo los datos observados.\n"
   ]
  },
  {
   "cell_type": "markdown",
   "metadata": {},
   "source": [
    "**Comparación de métricas**"
   ]
  },
  {
   "cell_type": "markdown",
   "metadata": {},
   "source": [
    "En general, no se puede comparar métricas diferentes entre si (incluso a veces la misma métrica en diferentes conjuntos de datos).\n",
    "\n",
    "* Las métricas miden aspectos diferentes. Decir que un modelo A es mejor que uno B, porque el accuracy de A es mejor que el F1 score de B no tiene sentido.\n",
    "* En general, no hay un valor para cada métrica a partir del cual el modelo se pueda considerar \"bueno\", y esto dependerá del dominio. Aunque si que hay algunos especiales. Por ejemplo:\n",
    "    * Ningún modelo debería de tener un ROC AUC inferior a $0.5$. (http://arogozhnikov.github.io/2015/10/05/roc-curve.html)\n",
    "    * Si tu métrica objetivo es el accuracy en un problema balanceado (50-50), si obtienes menos de $0.5$ quiere decir que estás \"prediciendo del revés\".\n",
    "    * Si utilizas MCC, valores inferiores a $0$ también te dicen que estás \"prediciendo del revés\"."
   ]
  },
  {
   "cell_type": "markdown",
   "metadata": {},
   "source": [
    "**¿Cuantas métricas??**"
   ]
  },
  {
   "cell_type": "markdown",
   "metadata": {},
   "source": [
    "Deberíamos escoger **una sola métrica**. Esto nos facilitará tanto la selección automática como la manual de modelos. ¿Qué hacer si necesito considerar mas de una?:\n",
    "* Juntar esas métricas en una. Por ejemplo, utilizando una media aritmetrica, geométrica, media ponderada...\n",
    "* Establecer criterios de suficiencia. Por ejemplo, quiero maximizar el accuracy sujeto a tener un recall > 0.7."
   ]
  },
  {
   "cell_type": "markdown",
   "metadata": {},
   "source": [
    "# Lecturas recomendadas\n",
    "\n",
    "* https://www.sciencedirect.com/science/article/pii/S0031320319300950"
   ]
  },
  {
   "cell_type": "markdown",
   "metadata": {},
   "source": [
    "# Referencias\n",
    "\n",
    "* https://www.oreilly.com/library/view/evaluating-machine-learning/9781492048756/"
   ]
  }
 ],
 "metadata": {
  "kernelspec": {
   "display_name": "Python 3.8.5 64-bit ('xai_es': conda)",
   "language": "python",
   "name": "python38564bitxaiesconda7a692f3b0132420486c572d11b306783"
  },
  "language_info": {
   "codemirror_mode": {
    "name": "ipython",
    "version": 3
   },
   "file_extension": ".py",
   "mimetype": "text/x-python",
   "name": "python",
   "nbconvert_exporter": "python",
   "pygments_lexer": "ipython3",
   "version": "3.8.5"
  }
 },
 "nbformat": 4,
 "nbformat_minor": 4
}
